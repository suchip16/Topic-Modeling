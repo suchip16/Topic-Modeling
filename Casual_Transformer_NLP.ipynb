{
  "nbformat": 4,
  "nbformat_minor": 0,
  "metadata": {
    "colab": {
      "provenance": [],
      "collapsed_sections": [
        "Et6etr2KYXI1"
      ],
      "gpuType": "T4"
    },
    "kernelspec": {
      "name": "python3",
      "display_name": "Python 3"
    },
    "language_info": {
      "name": "python"
    },
    "accelerator": "GPU"
  },
  "cells": [
    {
      "cell_type": "markdown",
      "source": [
        "## **Causal transformer model using pre-trained word embeddings to identify topic.**"
      ],
      "metadata": {
        "id": "G_cvf3Uy0f1J"
      }
    },
    {
      "cell_type": "code",
      "source": [
        "from google.colab import drive\n",
        "drive.mount('/content/drive')"
      ],
      "metadata": {
        "colab": {
          "base_uri": "https://localhost:8080/"
        },
        "id": "CyTI9cDBwIf3",
        "outputId": "50687d5a-a4c7-403f-dcb6-cfb18b372263"
      },
      "execution_count": 1,
      "outputs": [
        {
          "output_type": "stream",
          "name": "stdout",
          "text": [
            "Mounted at /content/drive\n"
          ]
        }
      ]
    },
    {
      "cell_type": "code",
      "source": [
        "!pip install tensorflow"
      ],
      "metadata": {
        "colab": {
          "base_uri": "https://localhost:8080/"
        },
        "id": "0ITMilgrLstx",
        "outputId": "8db4c337-1ff1-4f42-ed44-9554b65698da"
      },
      "execution_count": 2,
      "outputs": [
        {
          "output_type": "stream",
          "name": "stdout",
          "text": [
            "Requirement already satisfied: tensorflow in /usr/local/lib/python3.10/dist-packages (2.15.0)\n",
            "Requirement already satisfied: absl-py>=1.0.0 in /usr/local/lib/python3.10/dist-packages (from tensorflow) (1.4.0)\n",
            "Requirement already satisfied: astunparse>=1.6.0 in /usr/local/lib/python3.10/dist-packages (from tensorflow) (1.6.3)\n",
            "Requirement already satisfied: flatbuffers>=23.5.26 in /usr/local/lib/python3.10/dist-packages (from tensorflow) (24.3.25)\n",
            "Requirement already satisfied: gast!=0.5.0,!=0.5.1,!=0.5.2,>=0.2.1 in /usr/local/lib/python3.10/dist-packages (from tensorflow) (0.5.4)\n",
            "Requirement already satisfied: google-pasta>=0.1.1 in /usr/local/lib/python3.10/dist-packages (from tensorflow) (0.2.0)\n",
            "Requirement already satisfied: h5py>=2.9.0 in /usr/local/lib/python3.10/dist-packages (from tensorflow) (3.9.0)\n",
            "Requirement already satisfied: libclang>=13.0.0 in /usr/local/lib/python3.10/dist-packages (from tensorflow) (18.1.1)\n",
            "Requirement already satisfied: ml-dtypes~=0.2.0 in /usr/local/lib/python3.10/dist-packages (from tensorflow) (0.2.0)\n",
            "Requirement already satisfied: numpy<2.0.0,>=1.23.5 in /usr/local/lib/python3.10/dist-packages (from tensorflow) (1.25.2)\n",
            "Requirement already satisfied: opt-einsum>=2.3.2 in /usr/local/lib/python3.10/dist-packages (from tensorflow) (3.3.0)\n",
            "Requirement already satisfied: packaging in /usr/local/lib/python3.10/dist-packages (from tensorflow) (24.0)\n",
            "Requirement already satisfied: protobuf!=4.21.0,!=4.21.1,!=4.21.2,!=4.21.3,!=4.21.4,!=4.21.5,<5.0.0dev,>=3.20.3 in /usr/local/lib/python3.10/dist-packages (from tensorflow) (3.20.3)\n",
            "Requirement already satisfied: setuptools in /usr/local/lib/python3.10/dist-packages (from tensorflow) (67.7.2)\n",
            "Requirement already satisfied: six>=1.12.0 in /usr/local/lib/python3.10/dist-packages (from tensorflow) (1.16.0)\n",
            "Requirement already satisfied: termcolor>=1.1.0 in /usr/local/lib/python3.10/dist-packages (from tensorflow) (2.4.0)\n",
            "Requirement already satisfied: typing-extensions>=3.6.6 in /usr/local/lib/python3.10/dist-packages (from tensorflow) (4.11.0)\n",
            "Requirement already satisfied: wrapt<1.15,>=1.11.0 in /usr/local/lib/python3.10/dist-packages (from tensorflow) (1.14.1)\n",
            "Requirement already satisfied: tensorflow-io-gcs-filesystem>=0.23.1 in /usr/local/lib/python3.10/dist-packages (from tensorflow) (0.36.0)\n",
            "Requirement already satisfied: grpcio<2.0,>=1.24.3 in /usr/local/lib/python3.10/dist-packages (from tensorflow) (1.62.2)\n",
            "Requirement already satisfied: tensorboard<2.16,>=2.15 in /usr/local/lib/python3.10/dist-packages (from tensorflow) (2.15.2)\n",
            "Requirement already satisfied: tensorflow-estimator<2.16,>=2.15.0 in /usr/local/lib/python3.10/dist-packages (from tensorflow) (2.15.0)\n",
            "Requirement already satisfied: keras<2.16,>=2.15.0 in /usr/local/lib/python3.10/dist-packages (from tensorflow) (2.15.0)\n",
            "Requirement already satisfied: wheel<1.0,>=0.23.0 in /usr/local/lib/python3.10/dist-packages (from astunparse>=1.6.0->tensorflow) (0.43.0)\n",
            "Requirement already satisfied: google-auth<3,>=1.6.3 in /usr/local/lib/python3.10/dist-packages (from tensorboard<2.16,>=2.15->tensorflow) (2.27.0)\n",
            "Requirement already satisfied: google-auth-oauthlib<2,>=0.5 in /usr/local/lib/python3.10/dist-packages (from tensorboard<2.16,>=2.15->tensorflow) (1.2.0)\n",
            "Requirement already satisfied: markdown>=2.6.8 in /usr/local/lib/python3.10/dist-packages (from tensorboard<2.16,>=2.15->tensorflow) (3.6)\n",
            "Requirement already satisfied: requests<3,>=2.21.0 in /usr/local/lib/python3.10/dist-packages (from tensorboard<2.16,>=2.15->tensorflow) (2.31.0)\n",
            "Requirement already satisfied: tensorboard-data-server<0.8.0,>=0.7.0 in /usr/local/lib/python3.10/dist-packages (from tensorboard<2.16,>=2.15->tensorflow) (0.7.2)\n",
            "Requirement already satisfied: werkzeug>=1.0.1 in /usr/local/lib/python3.10/dist-packages (from tensorboard<2.16,>=2.15->tensorflow) (3.0.2)\n",
            "Requirement already satisfied: cachetools<6.0,>=2.0.0 in /usr/local/lib/python3.10/dist-packages (from google-auth<3,>=1.6.3->tensorboard<2.16,>=2.15->tensorflow) (5.3.3)\n",
            "Requirement already satisfied: pyasn1-modules>=0.2.1 in /usr/local/lib/python3.10/dist-packages (from google-auth<3,>=1.6.3->tensorboard<2.16,>=2.15->tensorflow) (0.4.0)\n",
            "Requirement already satisfied: rsa<5,>=3.1.4 in /usr/local/lib/python3.10/dist-packages (from google-auth<3,>=1.6.3->tensorboard<2.16,>=2.15->tensorflow) (4.9)\n",
            "Requirement already satisfied: requests-oauthlib>=0.7.0 in /usr/local/lib/python3.10/dist-packages (from google-auth-oauthlib<2,>=0.5->tensorboard<2.16,>=2.15->tensorflow) (1.3.1)\n",
            "Requirement already satisfied: charset-normalizer<4,>=2 in /usr/local/lib/python3.10/dist-packages (from requests<3,>=2.21.0->tensorboard<2.16,>=2.15->tensorflow) (3.3.2)\n",
            "Requirement already satisfied: idna<4,>=2.5 in /usr/local/lib/python3.10/dist-packages (from requests<3,>=2.21.0->tensorboard<2.16,>=2.15->tensorflow) (3.7)\n",
            "Requirement already satisfied: urllib3<3,>=1.21.1 in /usr/local/lib/python3.10/dist-packages (from requests<3,>=2.21.0->tensorboard<2.16,>=2.15->tensorflow) (2.0.7)\n",
            "Requirement already satisfied: certifi>=2017.4.17 in /usr/local/lib/python3.10/dist-packages (from requests<3,>=2.21.0->tensorboard<2.16,>=2.15->tensorflow) (2024.2.2)\n",
            "Requirement already satisfied: MarkupSafe>=2.1.1 in /usr/local/lib/python3.10/dist-packages (from werkzeug>=1.0.1->tensorboard<2.16,>=2.15->tensorflow) (2.1.5)\n",
            "Requirement already satisfied: pyasn1<0.7.0,>=0.4.6 in /usr/local/lib/python3.10/dist-packages (from pyasn1-modules>=0.2.1->google-auth<3,>=1.6.3->tensorboard<2.16,>=2.15->tensorflow) (0.6.0)\n",
            "Requirement already satisfied: oauthlib>=3.0.0 in /usr/local/lib/python3.10/dist-packages (from requests-oauthlib>=0.7.0->google-auth-oauthlib<2,>=0.5->tensorboard<2.16,>=2.15->tensorflow) (3.2.2)\n"
          ]
        }
      ]
    },
    {
      "cell_type": "markdown",
      "source": [
        "## **Import Libraries**"
      ],
      "metadata": {
        "id": "0H5sEAr87f5z"
      }
    },
    {
      "cell_type": "code",
      "source": [
        "import pandas as pd\n",
        "import numpy as np\n",
        "import matplotlib.pyplot as plt\n",
        "import seaborn as sns\n",
        "import tensorflow as tf\n",
        "import nltk\n",
        "from nltk import word_tokenize\n",
        "from nltk.corpus import stopwords\n",
        "nltk.download('stopwords')\n",
        "nltk.download('wordnet')\n",
        "nltk.download('punkt')\n",
        "nltk.download('averaged_perceptron_tagger')\n",
        "from keras.preprocessing.text import Tokenizer\n",
        "from keras.preprocessing.sequence import pad_sequences\n",
        "from keras.layers import Attention, LayerNormalization, Dropout\n",
        "from tensorflow.keras.layers import Input,Dense,Dropout, Flatten,Embedding\n",
        "from tensorflow.keras.models import Model\n",
        "from tensorflow.keras.optimizers import Adam,RMSprop,Adagrad\n",
        "from tensorflow.keras import initializers\n",
        "from tensorflow.keras.initializers import Constant\n",
        "from tensorflow.keras.metrics import TopKCategoricalAccuracy\n",
        "from tensorflow.keras.losses import SparseCategoricalCrossentropy\n",
        "from tensorflow.keras.callbacks import EarlyStopping\n",
        "import os\n",
        "from tensorflow.keras import layers\n",
        "from gensim.models import Word2Vec\n",
        "from sklearn.model_selection import train_test_split\n",
        "#from sklearn.metrices import classification report\n",
        "from gensim.models.keyedvectors import KeyedVectors\n",
        "import warnings\n",
        "warnings.filterwarnings(action='ignore')"
      ],
      "metadata": {
        "id": "GruKXyGQ7gkN",
        "colab": {
          "base_uri": "https://localhost:8080/"
        },
        "outputId": "efd71010-4ca7-48bd-b7f2-0623d2a84d28"
      },
      "execution_count": 3,
      "outputs": [
        {
          "output_type": "stream",
          "name": "stderr",
          "text": [
            "[nltk_data] Downloading package stopwords to /root/nltk_data...\n",
            "[nltk_data]   Unzipping corpora/stopwords.zip.\n",
            "[nltk_data] Downloading package wordnet to /root/nltk_data...\n",
            "[nltk_data] Downloading package punkt to /root/nltk_data...\n",
            "[nltk_data]   Unzipping tokenizers/punkt.zip.\n",
            "[nltk_data] Downloading package averaged_perceptron_tagger to\n",
            "[nltk_data]     /root/nltk_data...\n",
            "[nltk_data]   Unzipping taggers/averaged_perceptron_tagger.zip.\n"
          ]
        }
      ]
    },
    {
      "cell_type": "markdown",
      "source": [
        "## **Read Dataset and Check For Null Values**"
      ],
      "metadata": {
        "id": "B3Lz3Rr0e51l"
      }
    },
    {
      "cell_type": "code",
      "source": [
        "from google.colab import drive\n",
        "drive.mount('/content/drive/')"
      ],
      "metadata": {
        "colab": {
          "base_uri": "https://localhost:8080/"
        },
        "id": "rSU7PmJX6xS_",
        "outputId": "5aaf2809-0630-4466-e2c9-f5dabd3587af"
      },
      "execution_count": null,
      "outputs": [
        {
          "output_type": "stream",
          "name": "stdout",
          "text": [
            "Mounted at /content/drive/\n"
          ]
        }
      ]
    },
    {
      "cell_type": "code",
      "source": [
        "topic=pd.read_excel(\"/content/topics_updated.xlsx\")"
      ],
      "metadata": {
        "id": "7g5r1BrlUGfP"
      },
      "execution_count": 4,
      "outputs": []
    },
    {
      "cell_type": "code",
      "source": [
        "topic.head(5)"
      ],
      "metadata": {
        "colab": {
          "base_uri": "https://localhost:8080/",
          "height": 518
        },
        "id": "H0uSbOEtUGht",
        "outputId": "49dbb6cf-d40f-4f07-bc9d-d683dfe9ea10"
      },
      "execution_count": 5,
      "outputs": [
        {
          "output_type": "execute_result",
          "data": {
            "text/plain": [
              "                                               title  \\\n",
              "0  Bicep Curl Drop Set: Pump Your Guns and Maximi...   \n",
              "1      Wabash Theater Closes Season with Hand to God   \n",
              "2  Pandemic restrictions at county-run LTC homes ...   \n",
              "3  CAUGHT ON CAMERA: Loose pickup truck wheel sma...   \n",
              "4                    Brochure scanning: Toyota Vista   \n",
              "\n",
              "                                             content  \\\n",
              "0  fcda08714583ddf76ea02784122767b0538730be9a2376...   \n",
              "1  f76bad70f9f327139e4a0014e599971169ae806b5f27e9...   \n",
              "2  fa111b60bf919c60e30547dee062a93830a15486bc2ce6...   \n",
              "3  f73e1f77ecfce573f935abf4d2a0802219fe979b6eb85b...   \n",
              "4  f6d3c7c0c346dda25a367d77293914befc48d6e6f08b95...   \n",
              "\n",
              "                                            keywords  \\\n",
              "0  ['biceps', 'muscle', 'leg', 'days', 'youll', '...   \n",
              "1  ['caps', 'mainstage', 'comedies', 'fivetime', ...   \n",
              "2  ['Restrictions', 'care', 'homes', 'years', 'th...   \n",
              "3  ['pickup', 'truck', 'wheel', 'cars', 'windshie...   \n",
              "4  ['inital', 'post', 'feed', 'scans', 'beauty', ...   \n",
              "\n",
              "                                            entities  \\\n",
              "0  ['Drop', 'Muscleripping', 'Research', 'Plan', ...   \n",
              "1  ['Robert Askins', 'Jason', 'Jim Cherry', 'Marg...   \n",
              "2  ['Barrie', 'Lisa Garratt', 'Garratt', 'LTC', '...   \n",
              "3  ['Loose', 'Monday April', 'HSD', 'OPP', 'Try',...   \n",
              "4                     ['JDM Classic', 'JDM', 'Food']   \n",
              "\n",
              "                                         keywords_ex          topic  \\\n",
              "0  ['drop set', 'drop sets', 'sets', 'Drop set', ...        unknown   \n",
              "1  ['puppet', 'wabash theater', 'play', 'Jason', ...  entertainment   \n",
              "2  ['staff', 'residents', 'visitors', 'Lisa Garra...         health   \n",
              "3  ['pickup truck', 'windshield', 'highway', 'tru...     technology   \n",
              "4                             ['JDM', 'JDM Classic']  entertainment   \n",
              "\n",
              "                                        content_file  \n",
              "0  The biceps are arguably the most loved muscle ...  \n",
              "1  The Wabash Theater Department caps a year of m...  \n",
              "2  Restrictions put in place at long-term care ho...  \n",
              "3  Loose pickup truck wheel smashes into car’s wi...  \n",
              "4  Following on from my inital post earlier this ...  "
            ],
            "text/html": [
              "\n",
              "  <div id=\"df-33661878-e588-4737-a31f-901bf33e7e00\" class=\"colab-df-container\">\n",
              "    <div>\n",
              "<style scoped>\n",
              "    .dataframe tbody tr th:only-of-type {\n",
              "        vertical-align: middle;\n",
              "    }\n",
              "\n",
              "    .dataframe tbody tr th {\n",
              "        vertical-align: top;\n",
              "    }\n",
              "\n",
              "    .dataframe thead th {\n",
              "        text-align: right;\n",
              "    }\n",
              "</style>\n",
              "<table border=\"1\" class=\"dataframe\">\n",
              "  <thead>\n",
              "    <tr style=\"text-align: right;\">\n",
              "      <th></th>\n",
              "      <th>title</th>\n",
              "      <th>content</th>\n",
              "      <th>keywords</th>\n",
              "      <th>entities</th>\n",
              "      <th>keywords_ex</th>\n",
              "      <th>topic</th>\n",
              "      <th>content_file</th>\n",
              "    </tr>\n",
              "  </thead>\n",
              "  <tbody>\n",
              "    <tr>\n",
              "      <th>0</th>\n",
              "      <td>Bicep Curl Drop Set: Pump Your Guns and Maximi...</td>\n",
              "      <td>fcda08714583ddf76ea02784122767b0538730be9a2376...</td>\n",
              "      <td>['biceps', 'muscle', 'leg', 'days', 'youll', '...</td>\n",
              "      <td>['Drop', 'Muscleripping', 'Research', 'Plan', ...</td>\n",
              "      <td>['drop set', 'drop sets', 'sets', 'Drop set', ...</td>\n",
              "      <td>unknown</td>\n",
              "      <td>The biceps are arguably the most loved muscle ...</td>\n",
              "    </tr>\n",
              "    <tr>\n",
              "      <th>1</th>\n",
              "      <td>Wabash Theater Closes Season with Hand to God</td>\n",
              "      <td>f76bad70f9f327139e4a0014e599971169ae806b5f27e9...</td>\n",
              "      <td>['caps', 'mainstage', 'comedies', 'fivetime', ...</td>\n",
              "      <td>['Robert Askins', 'Jason', 'Jim Cherry', 'Marg...</td>\n",
              "      <td>['puppet', 'wabash theater', 'play', 'Jason', ...</td>\n",
              "      <td>entertainment</td>\n",
              "      <td>The Wabash Theater Department caps a year of m...</td>\n",
              "    </tr>\n",
              "    <tr>\n",
              "      <th>2</th>\n",
              "      <td>Pandemic restrictions at county-run LTC homes ...</td>\n",
              "      <td>fa111b60bf919c60e30547dee062a93830a15486bc2ce6...</td>\n",
              "      <td>['Restrictions', 'care', 'homes', 'years', 'th...</td>\n",
              "      <td>['Barrie', 'Lisa Garratt', 'Garratt', 'LTC', '...</td>\n",
              "      <td>['staff', 'residents', 'visitors', 'Lisa Garra...</td>\n",
              "      <td>health</td>\n",
              "      <td>Restrictions put in place at long-term care ho...</td>\n",
              "    </tr>\n",
              "    <tr>\n",
              "      <th>3</th>\n",
              "      <td>CAUGHT ON CAMERA: Loose pickup truck wheel sma...</td>\n",
              "      <td>f73e1f77ecfce573f935abf4d2a0802219fe979b6eb85b...</td>\n",
              "      <td>['pickup', 'truck', 'wheel', 'cars', 'windshie...</td>\n",
              "      <td>['Loose', 'Monday April', 'HSD', 'OPP', 'Try',...</td>\n",
              "      <td>['pickup truck', 'windshield', 'highway', 'tru...</td>\n",
              "      <td>technology</td>\n",
              "      <td>Loose pickup truck wheel smashes into car’s wi...</td>\n",
              "    </tr>\n",
              "    <tr>\n",
              "      <th>4</th>\n",
              "      <td>Brochure scanning: Toyota Vista</td>\n",
              "      <td>f6d3c7c0c346dda25a367d77293914befc48d6e6f08b95...</td>\n",
              "      <td>['inital', 'post', 'feed', 'scans', 'beauty', ...</td>\n",
              "      <td>['JDM Classic', 'JDM', 'Food']</td>\n",
              "      <td>['JDM', 'JDM Classic']</td>\n",
              "      <td>entertainment</td>\n",
              "      <td>Following on from my inital post earlier this ...</td>\n",
              "    </tr>\n",
              "  </tbody>\n",
              "</table>\n",
              "</div>\n",
              "    <div class=\"colab-df-buttons\">\n",
              "\n",
              "  <div class=\"colab-df-container\">\n",
              "    <button class=\"colab-df-convert\" onclick=\"convertToInteractive('df-33661878-e588-4737-a31f-901bf33e7e00')\"\n",
              "            title=\"Convert this dataframe to an interactive table.\"\n",
              "            style=\"display:none;\">\n",
              "\n",
              "  <svg xmlns=\"http://www.w3.org/2000/svg\" height=\"24px\" viewBox=\"0 -960 960 960\">\n",
              "    <path d=\"M120-120v-720h720v720H120Zm60-500h600v-160H180v160Zm220 220h160v-160H400v160Zm0 220h160v-160H400v160ZM180-400h160v-160H180v160Zm440 0h160v-160H620v160ZM180-180h160v-160H180v160Zm440 0h160v-160H620v160Z\"/>\n",
              "  </svg>\n",
              "    </button>\n",
              "\n",
              "  <style>\n",
              "    .colab-df-container {\n",
              "      display:flex;\n",
              "      gap: 12px;\n",
              "    }\n",
              "\n",
              "    .colab-df-convert {\n",
              "      background-color: #E8F0FE;\n",
              "      border: none;\n",
              "      border-radius: 50%;\n",
              "      cursor: pointer;\n",
              "      display: none;\n",
              "      fill: #1967D2;\n",
              "      height: 32px;\n",
              "      padding: 0 0 0 0;\n",
              "      width: 32px;\n",
              "    }\n",
              "\n",
              "    .colab-df-convert:hover {\n",
              "      background-color: #E2EBFA;\n",
              "      box-shadow: 0px 1px 2px rgba(60, 64, 67, 0.3), 0px 1px 3px 1px rgba(60, 64, 67, 0.15);\n",
              "      fill: #174EA6;\n",
              "    }\n",
              "\n",
              "    .colab-df-buttons div {\n",
              "      margin-bottom: 4px;\n",
              "    }\n",
              "\n",
              "    [theme=dark] .colab-df-convert {\n",
              "      background-color: #3B4455;\n",
              "      fill: #D2E3FC;\n",
              "    }\n",
              "\n",
              "    [theme=dark] .colab-df-convert:hover {\n",
              "      background-color: #434B5C;\n",
              "      box-shadow: 0px 1px 3px 1px rgba(0, 0, 0, 0.15);\n",
              "      filter: drop-shadow(0px 1px 2px rgba(0, 0, 0, 0.3));\n",
              "      fill: #FFFFFF;\n",
              "    }\n",
              "  </style>\n",
              "\n",
              "    <script>\n",
              "      const buttonEl =\n",
              "        document.querySelector('#df-33661878-e588-4737-a31f-901bf33e7e00 button.colab-df-convert');\n",
              "      buttonEl.style.display =\n",
              "        google.colab.kernel.accessAllowed ? 'block' : 'none';\n",
              "\n",
              "      async function convertToInteractive(key) {\n",
              "        const element = document.querySelector('#df-33661878-e588-4737-a31f-901bf33e7e00');\n",
              "        const dataTable =\n",
              "          await google.colab.kernel.invokeFunction('convertToInteractive',\n",
              "                                                    [key], {});\n",
              "        if (!dataTable) return;\n",
              "\n",
              "        const docLinkHtml = 'Like what you see? Visit the ' +\n",
              "          '<a target=\"_blank\" href=https://colab.research.google.com/notebooks/data_table.ipynb>data table notebook</a>'\n",
              "          + ' to learn more about interactive tables.';\n",
              "        element.innerHTML = '';\n",
              "        dataTable['output_type'] = 'display_data';\n",
              "        await google.colab.output.renderOutput(dataTable, element);\n",
              "        const docLink = document.createElement('div');\n",
              "        docLink.innerHTML = docLinkHtml;\n",
              "        element.appendChild(docLink);\n",
              "      }\n",
              "    </script>\n",
              "  </div>\n",
              "\n",
              "\n",
              "<div id=\"df-6001705c-d123-4a76-ada5-b7c12df814cc\">\n",
              "  <button class=\"colab-df-quickchart\" onclick=\"quickchart('df-6001705c-d123-4a76-ada5-b7c12df814cc')\"\n",
              "            title=\"Suggest charts\"\n",
              "            style=\"display:none;\">\n",
              "\n",
              "<svg xmlns=\"http://www.w3.org/2000/svg\" height=\"24px\"viewBox=\"0 0 24 24\"\n",
              "     width=\"24px\">\n",
              "    <g>\n",
              "        <path d=\"M19 3H5c-1.1 0-2 .9-2 2v14c0 1.1.9 2 2 2h14c1.1 0 2-.9 2-2V5c0-1.1-.9-2-2-2zM9 17H7v-7h2v7zm4 0h-2V7h2v10zm4 0h-2v-4h2v4z\"/>\n",
              "    </g>\n",
              "</svg>\n",
              "  </button>\n",
              "\n",
              "<style>\n",
              "  .colab-df-quickchart {\n",
              "      --bg-color: #E8F0FE;\n",
              "      --fill-color: #1967D2;\n",
              "      --hover-bg-color: #E2EBFA;\n",
              "      --hover-fill-color: #174EA6;\n",
              "      --disabled-fill-color: #AAA;\n",
              "      --disabled-bg-color: #DDD;\n",
              "  }\n",
              "\n",
              "  [theme=dark] .colab-df-quickchart {\n",
              "      --bg-color: #3B4455;\n",
              "      --fill-color: #D2E3FC;\n",
              "      --hover-bg-color: #434B5C;\n",
              "      --hover-fill-color: #FFFFFF;\n",
              "      --disabled-bg-color: #3B4455;\n",
              "      --disabled-fill-color: #666;\n",
              "  }\n",
              "\n",
              "  .colab-df-quickchart {\n",
              "    background-color: var(--bg-color);\n",
              "    border: none;\n",
              "    border-radius: 50%;\n",
              "    cursor: pointer;\n",
              "    display: none;\n",
              "    fill: var(--fill-color);\n",
              "    height: 32px;\n",
              "    padding: 0;\n",
              "    width: 32px;\n",
              "  }\n",
              "\n",
              "  .colab-df-quickchart:hover {\n",
              "    background-color: var(--hover-bg-color);\n",
              "    box-shadow: 0 1px 2px rgba(60, 64, 67, 0.3), 0 1px 3px 1px rgba(60, 64, 67, 0.15);\n",
              "    fill: var(--button-hover-fill-color);\n",
              "  }\n",
              "\n",
              "  .colab-df-quickchart-complete:disabled,\n",
              "  .colab-df-quickchart-complete:disabled:hover {\n",
              "    background-color: var(--disabled-bg-color);\n",
              "    fill: var(--disabled-fill-color);\n",
              "    box-shadow: none;\n",
              "  }\n",
              "\n",
              "  .colab-df-spinner {\n",
              "    border: 2px solid var(--fill-color);\n",
              "    border-color: transparent;\n",
              "    border-bottom-color: var(--fill-color);\n",
              "    animation:\n",
              "      spin 1s steps(1) infinite;\n",
              "  }\n",
              "\n",
              "  @keyframes spin {\n",
              "    0% {\n",
              "      border-color: transparent;\n",
              "      border-bottom-color: var(--fill-color);\n",
              "      border-left-color: var(--fill-color);\n",
              "    }\n",
              "    20% {\n",
              "      border-color: transparent;\n",
              "      border-left-color: var(--fill-color);\n",
              "      border-top-color: var(--fill-color);\n",
              "    }\n",
              "    30% {\n",
              "      border-color: transparent;\n",
              "      border-left-color: var(--fill-color);\n",
              "      border-top-color: var(--fill-color);\n",
              "      border-right-color: var(--fill-color);\n",
              "    }\n",
              "    40% {\n",
              "      border-color: transparent;\n",
              "      border-right-color: var(--fill-color);\n",
              "      border-top-color: var(--fill-color);\n",
              "    }\n",
              "    60% {\n",
              "      border-color: transparent;\n",
              "      border-right-color: var(--fill-color);\n",
              "    }\n",
              "    80% {\n",
              "      border-color: transparent;\n",
              "      border-right-color: var(--fill-color);\n",
              "      border-bottom-color: var(--fill-color);\n",
              "    }\n",
              "    90% {\n",
              "      border-color: transparent;\n",
              "      border-bottom-color: var(--fill-color);\n",
              "    }\n",
              "  }\n",
              "</style>\n",
              "\n",
              "  <script>\n",
              "    async function quickchart(key) {\n",
              "      const quickchartButtonEl =\n",
              "        document.querySelector('#' + key + ' button');\n",
              "      quickchartButtonEl.disabled = true;  // To prevent multiple clicks.\n",
              "      quickchartButtonEl.classList.add('colab-df-spinner');\n",
              "      try {\n",
              "        const charts = await google.colab.kernel.invokeFunction(\n",
              "            'suggestCharts', [key], {});\n",
              "      } catch (error) {\n",
              "        console.error('Error during call to suggestCharts:', error);\n",
              "      }\n",
              "      quickchartButtonEl.classList.remove('colab-df-spinner');\n",
              "      quickchartButtonEl.classList.add('colab-df-quickchart-complete');\n",
              "    }\n",
              "    (() => {\n",
              "      let quickchartButtonEl =\n",
              "        document.querySelector('#df-6001705c-d123-4a76-ada5-b7c12df814cc button');\n",
              "      quickchartButtonEl.style.display =\n",
              "        google.colab.kernel.accessAllowed ? 'block' : 'none';\n",
              "    })();\n",
              "  </script>\n",
              "</div>\n",
              "\n",
              "    </div>\n",
              "  </div>\n"
            ],
            "application/vnd.google.colaboratory.intrinsic+json": {
              "type": "dataframe",
              "variable_name": "topic",
              "summary": "{\n  \"name\": \"topic\",\n  \"rows\": 368,\n  \"fields\": [\n    {\n      \"column\": \"title\",\n      \"properties\": {\n        \"dtype\": \"string\",\n        \"num_unique_values\": 368,\n        \"samples\": [\n          \"BP (LON:BP) PT Lowered to GBX 570\",\n          \"Photos of solar sheep and an eco-winery capture Italy\\u00e2\\u20ac\\u2122s green journey\",\n          \"Kilroy Realty Co. (NYSE:KRC) Short Interest Update\"\n        ],\n        \"semantic_type\": \"\",\n        \"description\": \"\"\n      }\n    },\n    {\n      \"column\": \"content\",\n      \"properties\": {\n        \"dtype\": \"string\",\n        \"num_unique_values\": 368,\n        \"samples\": [\n          \"f9cf210d5ce0cc0ecf978654349af6fab21dc5502a0500fa81c86daaad3338102f3237c8a655e7802450b609980dc90b268fdf3e29d0a46ebb76290b4c23d715.txt\",\n          \"ffd0942c8633e8fddfe2b7489311aaf6c3b1a09f28a8ba9f57d6e51727c97b3931fb95286cd3d41bf27865e5b00bdb61fa61bf0fdf9acf3bedd95b7351f5404b.txt\",\n          \"7efce3acc53c50dc81e616817bd63de0cc3da2c328c13cf94263f4f4969c97ae0dc1079b2bb7ca185c0c32622ee470b6d1ee832357179cecb4670407c23688c7.txt\"\n        ],\n        \"semantic_type\": \"\",\n        \"description\": \"\"\n      }\n    },\n    {\n      \"column\": \"keywords\",\n      \"properties\": {\n        \"dtype\": \"string\",\n        \"num_unique_values\": 362,\n        \"samples\": [\n          \"['rate', 'hikes', 'table', 'Investors', 'Immuron', 'uptick', 'travel', 'globe', 'quarter', 'sales', 'gut', 'products', 'financials', 'months', 'company', 'business', 'update', 'webinar', 'today', 'Registrations', 'scale', 'yeartodate', 'product', 'portfolio', 'pipeline', 'Immurons', 'metrics', 'half', 'attributes', 'rebound', 'departures', 'levels', 'return', 'holidaymaking', 'wake', 'demand', 'wholesalers', 'line', 'pharmacy', 'Travelan', 'pace', 'revenue', 'period', 'clinics', 'distributor', 'growth', 'brand', 'peak', 'inventory', 'overthecounter', 'supplement', 'patients', 'travellers', 'sickness', 'diarrhoea', 'antibody', 'treatment', 'bacteria', 'toxins', 'markets', 'release', 'home', 'soil', 'interview', 'focus', 'wouldnt', 'price', 'patient', 'target', 'population', 'thats', 'highrisk', 'regions', 'theres', 'plans', 'companys', 'prospects', 'consulting', 'companies', 'research', 'market', 'mix', 'desktop', 'base', 'case', 'annum', 'opportunities', 'programs', 'revealsimmuron', 'proactive', 'investors', 'immuron']\",\n          \"['sheep', 'field', 'panels', 'wine', 'photographer', 'Luigi', 'greening', 'scale', 'home', 'days', 'hectares', 'farm', 'kilometres', 'synergy', 'dairy', 'turf', 'areas', 'peak', 'megawatts', 'electricity', 'project', 'series', 'examples', 'sustainability', 'sizes', 'arent', 'players', 'energy', 'provider', 'heroes', 'outsiders', 'models', 'selfproduction', 'consumption', 'make', 'difference', 'crisis', 'cellar\\\\xa0of', 'winery', 'picture', 'view', 'entrance', 'cellar', 'gardens', 'recovery', 'ventilation', 'insulate', 'summer', 'heat', 'air', 'conditioning', 'collectors', 'mirrors', 'channel', 'sunlight', 'levels', 'says', 'plant', 'river', 'network', 'community', 'ecowinery', 'capture', 'italys', 'journey', 'photos']\",\n          \"['Kilroy', 'target', 'increase', 'interest', 'shares', 'volume', 'shortinterest', 'ratio', 'days', 'company', 'Shares', 'debttoequity', 'firm', 'market', 'capitalization', 'pricetoearningsgrowth', 'beta', 'stocks', 'moving', 'business', 'dividend', 'Shareholders', 'record', 'yield', 'exdividend', 'date', 'payout', 'hedge', 'funds', 'stakes', 'stock', 'stake', 'quarter', 'estate', 'investment', 'period', 'Employees', 'investors', 'companys', 'analysts', 'price', 'rating', 'report', 'JPMorgan', 'buy', 'hold', 'move', 'valuation', 'call', 'analyst', 'sell', 'trust', 'development', 'acquisition', 'management', 'office', 'mixeduse', 'assets', 'develops', 'properties', 'regions', 'Ratings', 'email', 'address', 'summary', 'news', 'ratings', 'companies', 'newsletterkilroy', 'realty', 'nysekrc', 'update', 'kilroy']\"\n        ],\n        \"semantic_type\": \"\",\n        \"description\": \"\"\n      }\n    },\n    {\n      \"column\": \"entities\",\n      \"properties\": {\n        \"dtype\": \"string\",\n        \"num_unique_values\": 361,\n        \"samples\": [\n          \"['Immuron', 'Travelan', 'Protectyn', 'Steven Lydeamore', 'Lydeamore', 'RBA', 'IMC', 'Australia', 'North America', 'Canada', 'Stock to Buy', 'Stock to Sell', 'Week Netflix Tesla', 'Ltd NASDAQIMRN ASXIMC', 'Travelan and Protectyn', 'AEST', 'Immurons', 'Bureau', 'Statistics', 'Passport Health', 'LPS', 'Imodium', 'GastroStop', 'CEO']\",\n          \"['Luigi Avantaggiato', 'Buon Pastore', 'Islands of Energy', 'Eni', 'Italy', 'SantAlberto Italy', 'Ravenna', 'Salcheto', 'Montepulciano  Below', 'Montepulciano Vertical', 'Angeli di Rosora', 'Italyphotos', 'Islands', 'Energy', 'Avantaggiato', 'Gas', 'Montepulciano', 'Esino', 'Leaf Community']\",\n          \"['Kilroy Realty Co NYSEKRC', 'KRC', 'Kilroy Realty', 'LPL Financial LLC', 'MT Bank Corp', 'Wells Fargo  Company', 'JPMorgan Chase  Co', 'Mizuho', 'Jefferies Financial Group', 'MarketBeatcom', 'Kilroy Realty Corp', 'San Francisco Bay Area', 'PE', 'Wednesday April', 'Friday March', 'Thursday March', 'Kilroy Realtys', 'Oregon Public', 'Retirement Fund', 'Institutional', 'Wells Fargo Company', 'Wednesday March', 'Chase Co', 'Monday January', 'Wednesday January', 'Hold', 'Realty Corp', 'Class', 'News', 'Kilroy Realty Daily Enter', 'MarketBeatcoms FREE']\"\n        ],\n        \"semantic_type\": \"\",\n        \"description\": \"\"\n      }\n    },\n    {\n      \"column\": \"keywords_ex\",\n      \"properties\": {\n        \"dtype\": \"string\",\n        \"num_unique_values\": 352,\n        \"samples\": [\n          \"['life testing', 'food shelf', 'shelf life', 'Business Research Company', 'Europe']\",\n          \"['allianz cup', 'fixtures', 'dmp sharks', 'wasps', 'clubs', 'Allianz', 'Allianz Cup', 'Friendly Series']\",\n          \"['family', 'nikolas', 'spencer', 'rumors', 'hospital blog', 'ship', 'brother ace', 'Spencer', 'Nikolas', 'Victor', 'Uncle Victors']\"\n        ],\n        \"semantic_type\": \"\",\n        \"description\": \"\"\n      }\n    },\n    {\n      \"column\": \"topic\",\n      \"properties\": {\n        \"dtype\": \"category\",\n        \"num_unique_values\": 9,\n        \"samples\": [\n          \"business\",\n          \"entertainment\",\n          \"sports\"\n        ],\n        \"semantic_type\": \"\",\n        \"description\": \"\"\n      }\n    },\n    {\n      \"column\": \"content_file\",\n      \"properties\": {\n        \"dtype\": \"string\",\n        \"num_unique_values\": 368,\n        \"samples\": [\n          \"BP (LON:BP \\u2013 Get Rating) had its price target cut by equities researchers at JPMorgan Chase & Co.  from GBX 585 ($7.24) to GBX 570 ($7.05) in a note issued to investors on Wednesday, The Fly reports. JPMorgan Chase & Co.\\u2018s target price suggests a potential upside of 4.68% from the stock\\u2019s current price.\\n\\nBP has been the topic of several other reports. Barclays  reiterated an \\u201coverweight\\u201d rating and issued a GBX 1,000 ($12.37) price target on shares of BP in a research report on Wednesday, March 1st. Royal Bank of Canada boosted their price target on shares of BP from GBX 550 ($6.81) to GBX 650 ($8.04) and gave the stock an \\u201coutperform\\u201d rating in a research report on Wednesday, February 8th. Citigroup  reiterated a \\u201cbuy\\u201d rating on shares of BP in a research report on Tuesday, March 21st. Bank of America lowered their price target on BP from GBX 550 ($6.81) to GBX 500 ($6.19) and set a \\u201cneutral\\u201d rating for the company in a research note on Tuesday, January 17th. Finally, Berenberg Bank cut BP to a \\u201chold\\u201d rating and boosted their price target for the company from GBX 560 ($6.93) to GBX 590 ($7.30) in a research note on Thursday, February 23rd. Three investment analysts have rated the stock with a hold rating and five have assigned  a buy rating to the company\\u2019s stock. According to MarketBeat, the company  has an average rating of \\u201cModerate Buy\\u201d and a consensus target price of GBX 637.71 ($7.89).\\n\\nShares of LON BP traded up GBX 0.70 ($0.01) during midday trading on Wednesday, reaching GBX 544.50 ($6.74). 33,195,166 shares of the company traded hands, compared to its average volume of 8,560,774. BP has a 52 week low of GBX 359.20 ($4.44) and a 52 week high of GBX 570.57 ($7.06). The stock has a 50-day moving average price of GBX 532.16 and a 200 day moving average price of GBX 494.59. The company has a debt-to-equity ratio of 66.87, a current ratio of 1.09 and a quick ratio of 0.62. The company has a market cap of \\u00a396.54 billion, a price-to-earnings ratio of -5,445.00, a PEG ratio of 0.35 and a beta of 0.61.\\n\\nIn other BP news, insider Murray Auchincloss purchased 67 shares of the business\\u2019s stock in a transaction dated Friday, February 10th. The stock was bought at an average cost of GBX 546 ($6.76) per share, for a total transaction of \\u00a3365.82 ($452.69). In other news, insider Bernard Looney acquired 60 shares of the stock in a transaction dated Tuesday, April 11th. The shares were acquired at an average cost of GBX 532 ($6.58) per share, for a total transaction of \\u00a3319.20 ($395.00). Also, insider Murray Auchincloss purchased 67 shares of the stock in a transaction on Friday, February 10th. The stock was bought at an average price of GBX 546 ($6.76) per share, for a total transaction of \\u00a3365.82 ($452.69). Insiders acquired a total of 195 shares of company stock worth $106,378 over the last three months. 0.25% of the stock is currently owned by insiders.\\n\\nBP p.l.c. engages in the energy business worldwide. It operates through Gas & Low Carbon Energy, Oil Production & Operations, Customers & Products, and Rosneft segments. It produces and trades in natural gas; offers biofuels; operates onshore and offshore wind power, and solar power generating facilities; and provides de-carbonization solutions and services, such as hydrogen and carbon capture and storage.\\n\\nReceive News & Ratings for BP Daily - Enter your email address below to receive a concise daily summary of the latest news and analysts' ratings for BP and related companies with MarketBeat.com's FREE daily email newsletter.\",\n          \"From sheep grazing in a field of solar panels to natural wine chilling, Islands of Energy by photographer Luigi Avantaggiato captures the greening of Italy at every scale\\n\\nFrom sheep grazing in a field of solar panels to natural wine chilling, Islands of Energy by photographer Luigi Avantaggiato captures the greening of Italy at every scale\\n\\nTHESE inquisitive sheep (pictured above) are on their way home after a hard day\\u2019s grazing among the 71 hectares of solar panels at a solar farm in Sant\\u2019Alberto, Italy, a small area about 14 kilometres north of Ravenna.\\n\\nThe solar farm works in synergy with the Buon Pastore dairy and sheep farm, with the sheep helping to maintain the turf areas. The solar panels are capable of generating a peak of 35 megawatts of electricity.\\n\\nThe project is one of several captured by photographer Luigi Avantaggiato for his new series Islands of Energy, which focuses on examples of Italian sustainability of all sizes. These aren\\u2019t big players like British Gas or the Italian energy provider Eni, says Avantaggiato. On the contrary, he says, they are \\u201cheroes\\u201d \\u2013 sustainability outsiders whose models of self-production and electricity consumption make a real difference in the energy crisis.\\n\\nInside the cellar\\u00a0of the Salcheto winery in Montepulciano\\n\\nBelow the picture of the sheep is a view of the entrance to the cellar of the Salcheto winery in Montepulciano. Vertical gardens and a recovery system for natural ventilation insulate it from the summer heat without resorting to air conditioning. Inside, the cellar (pictured above) is lit naturally using solar collectors and curved mirrors to channel sunlight into its various levels. It is \\u201cvery charming\\u201d, says Avantaggiato.\\n\\nA hydroelectric plant on the Esino river at Angeli di Rosora is pictured above. The plant is part of an electricity network that powers the Leaf Community, the first ecologically sustainable community in Italy.\",\n          \"Kilroy Realty Co. (NYSE:KRC \\u2013 Get Rating) was the target of a significant increase in short interest in the month of March. As of March 31st, there was short interest totalling 6,020,000 shares,  an increase of 42.7% from the March 15th total of 4,220,000 shares. Based on an average daily volume of 1,270,000 shares, the short-interest ratio is currently 4.7 days. Approximately 5.2% of the shares of the company are short sold.\\n\\nShares of KRC opened at $30.10 on Wednesday. The company has a quick ratio of 2.09, a current ratio of 2.09 and a debt-to-equity ratio of 0.75. Kilroy Realty has a 12-month low of $27.03 and a 12-month high of $75.90. The firm has a market capitalization of $3.52 billion, a PE ratio of 15.20, a price-to-earnings-growth ratio of 1.90 and a beta of 0.87. The stock\\u2019s fifty day simple moving average is $33.69 and its 200-day simple moving average is $38.22.\\n\\nThe business also recently announced a quarterly dividend, which was paid on Wednesday, April 12th. Shareholders of record on Friday, March 31st were paid a $0.54 dividend. This represents a $2.16 annualized dividend and a yield of 7.18%. The ex-dividend date  was Thursday, March 30th. Kilroy Realty\\u2019s payout ratio is 109.09%.\\n\\nSeveral hedge funds have recently added to or reduced their stakes in the stock. Nissay Asset Management Corp Japan ADV lifted its stake in  Kilroy Realty by 2.6% in the fourth quarter. Nissay Asset Management Corp Japan ADV now owns 11,098 shares of the real estate investment trust\\u2019s stock valued at $429,000 after buying an additional 278 shares during the period.  Ameritas Investment Partners Inc. lifted its stake in  Kilroy Realty by 1.1% in the first quarter. Ameritas Investment Partners Inc. now owns 28,061 shares of the real estate investment trust\\u2019s stock valued at $2,144,000 after buying an additional 298 shares during the period.  Oregon Public Employees Retirement Fund lifted its stake in  Kilroy Realty by 1.0% in the third quarter. Oregon Public Employees Retirement Fund now owns 30,618 shares of the real estate investment trust\\u2019s stock valued at $1,289,000 after buying an additional 300 shares during the period.  LPL Financial LLC lifted its stake in  Kilroy Realty by 7.6% in the second quarter. LPL Financial LLC now owns 4,957 shares of the real estate investment trust\\u2019s stock valued at $259,000 after buying an additional 349 shares during the period.  Finally, M&T Bank Corp lifted its stake in  Kilroy Realty by 2.9% in the third quarter. M&T Bank Corp now owns 12,777 shares of the real estate investment trust\\u2019s stock valued at $537,000 after buying an additional 359 shares during the period. Institutional investors and hedge funds own  89.86% of the company\\u2019s stock.\\n\\nSeveral analysts have recently commented on KRC shares. Wells Fargo & Company decreased their target price on Kilroy Realty from $46.00 to $36.00 and set an \\u201coverweight\\u201d rating on the stock in a report on Thursday, March 16th. Deutsche Bank Aktiengesellschaft decreased their target price on Kilroy Realty from $46.00 to $41.00 in a report on Wednesday, March 1st. JPMorgan Chase & Co. decreased their target price on Kilroy Realty from $54.00 to $47.00 and set a \\u201cneutral\\u201d rating on the stock in a report on Monday, January 23rd. Mizuho decreased their target price on Kilroy Realty from $55.00 to $48.00 and set a \\u201cbuy\\u201d rating on the stock in a report on Wednesday, January 4th. Finally, Jefferies Financial Group cut Kilroy Realty from a \\u201cbuy\\u201d rating to a \\u201chold\\u201d rating and decreased their target price for the stock from $48.00 to $39.00 in a report on Monday, January 2nd. They noted that the move was a valuation call. One investment analyst  has rated the stock with a sell rating, nine have assigned  a hold rating and four have given a buy rating to the company. According to MarketBeat.com, the company  has an average rating of \\u201cHold\\u201d and an average target price of $48.38.\\n\\nKilroy Realty Corp. operates as a self-administered real estate investment trust, which engages in the development, acquisition, and management of office and mixed-use real estate assets. It owns, develops, acquires and manages real estate assets, consisting primarily of Class A properties in the coastal regions of Los Angeles, Orange County, San Diego County, the San Francisco Bay Area, and Greater Seattle.\\n\\nReceive News & Ratings for Kilroy Realty Daily - Enter your email address below to receive a concise daily summary of the latest news and analysts' ratings for Kilroy Realty and related companies with MarketBeat.com's FREE daily email newsletter.\"\n        ],\n        \"semantic_type\": \"\",\n        \"description\": \"\"\n      }\n    }\n  ]\n}"
            }
          },
          "metadata": {},
          "execution_count": 5
        }
      ]
    },
    {
      "cell_type": "code",
      "source": [
        "topic['topic'].value_counts()\n",
        "plt.figure(figsize=(10,8))\n",
        "sns.barplot(x=topic['topic'].value_counts().index,y=topic['topic'].value_counts())"
      ],
      "metadata": {
        "colab": {
          "base_uri": "https://localhost:8080/",
          "height": 713
        },
        "id": "mXcB3TcOUGlJ",
        "outputId": "6ff54f6a-f6c1-4f39-bcac-a195327dc187"
      },
      "execution_count": 6,
      "outputs": [
        {
          "output_type": "execute_result",
          "data": {
            "text/plain": [
              "<Axes: xlabel='topic', ylabel='count'>"
            ]
          },
          "metadata": {},
          "execution_count": 6
        },
        {
          "output_type": "display_data",
          "data": {
            "text/plain": [
              "<Figure size 1000x800 with 1 Axes>"
            ],
            "image/png": "[encoded data removed]"
          },
          "metadata": {}
        }
      ]
    },
    {
      "cell_type": "code",
      "source": [
        "topic.isnull().sum()"
      ],
      "metadata": {
        "colab": {
          "base_uri": "https://localhost:8080/"
        },
        "id": "mODFp3MFfBim",
        "outputId": "030a8961-73dd-4ade-caca-3007515b01a1"
      },
      "execution_count": 7,
      "outputs": [
        {
          "output_type": "execute_result",
          "data": {
            "text/plain": [
              "title           0\n",
              "content         0\n",
              "keywords        0\n",
              "entities        0\n",
              "keywords_ex     0\n",
              "topic           0\n",
              "content_file    0\n",
              "dtype: int64"
            ]
          },
          "metadata": {},
          "execution_count": 7
        }
      ]
    },
    {
      "cell_type": "code",
      "source": [
        "#topic['title'].fillna('Unknown',inplace=True)\n",
        "#topic['entities'].fillna('Unknown',inplace=True)\n",
        "#topic['keywords_ex'].fillna('Unknown',inplace=True)\n",
        "#topic['keywords'].fillna('Unknown',inplace=True)\n",
        "#topic['topic'].fillna('Unknown',inplace=True)\n",
        "#topic['content'].fillna('Unknown',inplace=True)"
      ],
      "metadata": {
        "id": "pkiamEU3wKc2"
      },
      "execution_count": null,
      "outputs": []
    },
    {
      "cell_type": "code",
      "source": [
        "# drop unimportant columns\n",
        "#topic_copy=topic.copy()\n",
        "#topic_copy=topic_copy.drop(columns=['content_word_count', 'published_date','created_at', 'updated_at', 'language', 'article_links','total_share_count', 'keywords_status', 'sentiment', 'title_sentiment','infographic','case_study', 'review', 'video', 'podcast', 'webinar', 'interview','quote', 'meme', 'give_away', 'quiz', 'cities_and_states', 'countries','geo_locations'])"
      ],
      "metadata": {
        "id": "kb-nbwEzfBsk"
      },
      "execution_count": null,
      "outputs": []
    },
    {
      "cell_type": "markdown",
      "source": [
        "## **Extract Content From Text Files Into Excel File**"
      ],
      "metadata": {
        "id": "Et6etr2KYXI1"
      }
    },
    {
      "cell_type": "code",
      "source": [
        "# read .txt file\n",
        "def read_text_file(file_path):\n",
        "  with open(file_path,'r') as file:\n",
        "    content=file.read()\n",
        "  return content"
      ],
      "metadata": {
        "id": "zJ2JN6_LYet9"
      },
      "execution_count": null,
      "outputs": []
    },
    {
      "cell_type": "code",
      "source": [
        "topic_copy['content_file']=''\n",
        "topic_copy.head(2)"
      ],
      "metadata": {
        "colab": {
          "base_uri": "https://localhost:8080/",
          "height": 216
        },
        "id": "piUFm9N_GFEI",
        "outputId": "870b3946-fa24-4712-9dc7-f4c9a7c9a552"
      },
      "execution_count": null,
      "outputs": [
        {
          "output_type": "execute_result",
          "data": {
            "text/plain": [
              "                                               title  \\\n",
              "0  Mitsubishi Motors Co. (OTCMKTS:MMTOF) Short In...   \n",
              "1  Juventus off the hook! Bianconeri set to have ...   \n",
              "\n",
              "                                             content  \\\n",
              "0  29c9689e5ed81852967ff964f16be109a37dd9ecb1f5c9...   \n",
              "1  b9e3313535ffdbc2fe198572f17ce61330980dfab64324...   \n",
              "\n",
              "                                            keywords  \\\n",
              "0  ['recipient', 'growth', 'interest', 'shares', ...   \n",
              "1  ['developments', 'reversal', 'deduction', 'tes...   \n",
              "\n",
              "                                            entities  \\\n",
              "0  ['Mitsubishi Motors Co', 'Citigroup', 'Mitsubi...   \n",
              "1  ['Ugo Taucer', 'Taucers', 'Juventus', 'Collegi...   \n",
              "\n",
              "                                         keywords_ex     topic content_file  \n",
              "0  ['mitsubishi motors', 'shares', 'vehicles', 'M...  business               \n",
              "1  ['bianconeri set', 'serie', 'hook', 'deduction...    sports               "
            ],
            "text/html": [
              "\n",
              "  <div id=\"df-2803e9d5-044d-4c7e-b4fc-6330a10dba6f\" class=\"colab-df-container\">\n",
              "    <div>\n",
              "<style scoped>\n",
              "    .dataframe tbody tr th:only-of-type {\n",
              "        vertical-align: middle;\n",
              "    }\n",
              "\n",
              "    .dataframe tbody tr th {\n",
              "        vertical-align: top;\n",
              "    }\n",
              "\n",
              "    .dataframe thead th {\n",
              "        text-align: right;\n",
              "    }\n",
              "</style>\n",
              "<table border=\"1\" class=\"dataframe\">\n",
              "  <thead>\n",
              "    <tr style=\"text-align: right;\">\n",
              "      <th></th>\n",
              "      <th>title</th>\n",
              "      <th>content</th>\n",
              "      <th>keywords</th>\n",
              "      <th>entities</th>\n",
              "      <th>keywords_ex</th>\n",
              "      <th>topic</th>\n",
              "      <th>content_file</th>\n",
              "    </tr>\n",
              "  </thead>\n",
              "  <tbody>\n",
              "    <tr>\n",
              "      <th>0</th>\n",
              "      <td>Mitsubishi Motors Co. (OTCMKTS:MMTOF) Short In...</td>\n",
              "      <td>29c9689e5ed81852967ff964f16be109a37dd9ecb1f5c9...</td>\n",
              "      <td>['recipient', 'growth', 'interest', 'shares', ...</td>\n",
              "      <td>['Mitsubishi Motors Co', 'Citigroup', 'Mitsubi...</td>\n",
              "      <td>['mitsubishi motors', 'shares', 'vehicles', 'M...</td>\n",
              "      <td>business</td>\n",
              "      <td></td>\n",
              "    </tr>\n",
              "    <tr>\n",
              "      <th>1</th>\n",
              "      <td>Juventus off the hook! Bianconeri set to have ...</td>\n",
              "      <td>b9e3313535ffdbc2fe198572f17ce61330980dfab64324...</td>\n",
              "      <td>['developments', 'reversal', 'deduction', 'tes...</td>\n",
              "      <td>['Ugo Taucer', 'Taucers', 'Juventus', 'Collegi...</td>\n",
              "      <td>['bianconeri set', 'serie', 'hook', 'deduction...</td>\n",
              "      <td>sports</td>\n",
              "      <td></td>\n",
              "    </tr>\n",
              "  </tbody>\n",
              "</table>\n",
              "</div>\n",
              "    <div class=\"colab-df-buttons\">\n",
              "\n",
              "  <div class=\"colab-df-container\">\n",
              "    <button class=\"colab-df-convert\" onclick=\"convertToInteractive('df-2803e9d5-044d-4c7e-b4fc-6330a10dba6f')\"\n",
              "            title=\"Convert this dataframe to an interactive table.\"\n",
              "            style=\"display:none;\">\n",
              "\n",
              "  <svg xmlns=\"http://www.w3.org/2000/svg\" height=\"24px\" viewBox=\"0 -960 960 960\">\n",
              "    <path d=\"M120-120v-720h720v720H120Zm60-500h600v-160H180v160Zm220 220h160v-160H400v160Zm0 220h160v-160H400v160ZM180-400h160v-160H180v160Zm440 0h160v-160H620v160ZM180-180h160v-160H180v160Zm440 0h160v-160H620v160Z\"/>\n",
              "  </svg>\n",
              "    </button>\n",
              "\n",
              "  <style>\n",
              "    .colab-df-container {\n",
              "      display:flex;\n",
              "      gap: 12px;\n",
              "    }\n",
              "\n",
              "    .colab-df-convert {\n",
              "      background-color: #E8F0FE;\n",
              "      border: none;\n",
              "      border-radius: 50%;\n",
              "      cursor: pointer;\n",
              "      display: none;\n",
              "      fill: #1967D2;\n",
              "      height: 32px;\n",
              "      padding: 0 0 0 0;\n",
              "      width: 32px;\n",
              "    }\n",
              "\n",
              "    .colab-df-convert:hover {\n",
              "      background-color: #E2EBFA;\n",
              "      box-shadow: 0px 1px 2px rgba(60, 64, 67, 0.3), 0px 1px 3px 1px rgba(60, 64, 67, 0.15);\n",
              "      fill: #174EA6;\n",
              "    }\n",
              "\n",
              "    .colab-df-buttons div {\n",
              "      margin-bottom: 4px;\n",
              "    }\n",
              "\n",
              "    [theme=dark] .colab-df-convert {\n",
              "      background-color: #3B4455;\n",
              "      fill: #D2E3FC;\n",
              "    }\n",
              "\n",
              "    [theme=dark] .colab-df-convert:hover {\n",
              "      background-color: #434B5C;\n",
              "      box-shadow: 0px 1px 3px 1px rgba(0, 0, 0, 0.15);\n",
              "      filter: drop-shadow(0px 1px 2px rgba(0, 0, 0, 0.3));\n",
              "      fill: #FFFFFF;\n",
              "    }\n",
              "  </style>\n",
              "\n",
              "    <script>\n",
              "      const buttonEl =\n",
              "        document.querySelector('#df-2803e9d5-044d-4c7e-b4fc-6330a10dba6f button.colab-df-convert');\n",
              "      buttonEl.style.display =\n",
              "        google.colab.kernel.accessAllowed ? 'block' : 'none';\n",
              "\n",
              "      async function convertToInteractive(key) {\n",
              "        const element = document.querySelector('#df-2803e9d5-044d-4c7e-b4fc-6330a10dba6f');\n",
              "        const dataTable =\n",
              "          await google.colab.kernel.invokeFunction('convertToInteractive',\n",
              "                                                    [key], {});\n",
              "        if (!dataTable) return;\n",
              "\n",
              "        const docLinkHtml = 'Like what you see? Visit the ' +\n",
              "          '<a target=\"_blank\" href=https://colab.research.google.com/notebooks/data_table.ipynb>data table notebook</a>'\n",
              "          + ' to learn more about interactive tables.';\n",
              "        element.innerHTML = '';\n",
              "        dataTable['output_type'] = 'display_data';\n",
              "        await google.colab.output.renderOutput(dataTable, element);\n",
              "        const docLink = document.createElement('div');\n",
              "        docLink.innerHTML = docLinkHtml;\n",
              "        element.appendChild(docLink);\n",
              "      }\n",
              "    </script>\n",
              "  </div>\n",
              "\n",
              "\n",
              "<div id=\"df-50d70ff3-7208-44e3-9833-7ccfb2770c79\">\n",
              "  <button class=\"colab-df-quickchart\" onclick=\"quickchart('df-50d70ff3-7208-44e3-9833-7ccfb2770c79')\"\n",
              "            title=\"Suggest charts\"\n",
              "            style=\"display:none;\">\n",
              "\n",
              "<svg xmlns=\"http://www.w3.org/2000/svg\" height=\"24px\"viewBox=\"0 0 24 24\"\n",
              "     width=\"24px\">\n",
              "    <g>\n",
              "        <path d=\"M19 3H5c-1.1 0-2 .9-2 2v14c0 1.1.9 2 2 2h14c1.1 0 2-.9 2-2V5c0-1.1-.9-2-2-2zM9 17H7v-7h2v7zm4 0h-2V7h2v10zm4 0h-2v-4h2v4z\"/>\n",
              "    </g>\n",
              "</svg>\n",
              "  </button>\n",
              "\n",
              "<style>\n",
              "  .colab-df-quickchart {\n",
              "      --bg-color: #E8F0FE;\n",
              "      --fill-color: #1967D2;\n",
              "      --hover-bg-color: #E2EBFA;\n",
              "      --hover-fill-color: #174EA6;\n",
              "      --disabled-fill-color: #AAA;\n",
              "      --disabled-bg-color: #DDD;\n",
              "  }\n",
              "\n",
              "  [theme=dark] .colab-df-quickchart {\n",
              "      --bg-color: #3B4455;\n",
              "      --fill-color: #D2E3FC;\n",
              "      --hover-bg-color: #434B5C;\n",
              "      --hover-fill-color: #FFFFFF;\n",
              "      --disabled-bg-color: #3B4455;\n",
              "      --disabled-fill-color: #666;\n",
              "  }\n",
              "\n",
              "  .colab-df-quickchart {\n",
              "    background-color: var(--bg-color);\n",
              "    border: none;\n",
              "    border-radius: 50%;\n",
              "    cursor: pointer;\n",
              "    display: none;\n",
              "    fill: var(--fill-color);\n",
              "    height: 32px;\n",
              "    padding: 0;\n",
              "    width: 32px;\n",
              "  }\n",
              "\n",
              "  .colab-df-quickchart:hover {\n",
              "    background-color: var(--hover-bg-color);\n",
              "    box-shadow: 0 1px 2px rgba(60, 64, 67, 0.3), 0 1px 3px 1px rgba(60, 64, 67, 0.15);\n",
              "    fill: var(--button-hover-fill-color);\n",
              "  }\n",
              "\n",
              "  .colab-df-quickchart-complete:disabled,\n",
              "  .colab-df-quickchart-complete:disabled:hover {\n",
              "    background-color: var(--disabled-bg-color);\n",
              "    fill: var(--disabled-fill-color);\n",
              "    box-shadow: none;\n",
              "  }\n",
              "\n",
              "  .colab-df-spinner {\n",
              "    border: 2px solid var(--fill-color);\n",
              "    border-color: transparent;\n",
              "    border-bottom-color: var(--fill-color);\n",
              "    animation:\n",
              "      spin 1s steps(1) infinite;\n",
              "  }\n",
              "\n",
              "  @keyframes spin {\n",
              "    0% {\n",
              "      border-color: transparent;\n",
              "      border-bottom-color: var(--fill-color);\n",
              "      border-left-color: var(--fill-color);\n",
              "    }\n",
              "    20% {\n",
              "      border-color: transparent;\n",
              "      border-left-color: var(--fill-color);\n",
              "      border-top-color: var(--fill-color);\n",
              "    }\n",
              "    30% {\n",
              "      border-color: transparent;\n",
              "      border-left-color: var(--fill-color);\n",
              "      border-top-color: var(--fill-color);\n",
              "      border-right-color: var(--fill-color);\n",
              "    }\n",
              "    40% {\n",
              "      border-color: transparent;\n",
              "      border-right-color: var(--fill-color);\n",
              "      border-top-color: var(--fill-color);\n",
              "    }\n",
              "    60% {\n",
              "      border-color: transparent;\n",
              "      border-right-color: var(--fill-color);\n",
              "    }\n",
              "    80% {\n",
              "      border-color: transparent;\n",
              "      border-right-color: var(--fill-color);\n",
              "      border-bottom-color: var(--fill-color);\n",
              "    }\n",
              "    90% {\n",
              "      border-color: transparent;\n",
              "      border-bottom-color: var(--fill-color);\n",
              "    }\n",
              "  }\n",
              "</style>\n",
              "\n",
              "  <script>\n",
              "    async function quickchart(key) {\n",
              "      const quickchartButtonEl =\n",
              "        document.querySelector('#' + key + ' button');\n",
              "      quickchartButtonEl.disabled = true;  // To prevent multiple clicks.\n",
              "      quickchartButtonEl.classList.add('colab-df-spinner');\n",
              "      try {\n",
              "        const charts = await google.colab.kernel.invokeFunction(\n",
              "            'suggestCharts', [key], {});\n",
              "      } catch (error) {\n",
              "        console.error('Error during call to suggestCharts:', error);\n",
              "      }\n",
              "      quickchartButtonEl.classList.remove('colab-df-spinner');\n",
              "      quickchartButtonEl.classList.add('colab-df-quickchart-complete');\n",
              "    }\n",
              "    (() => {\n",
              "      let quickchartButtonEl =\n",
              "        document.querySelector('#df-50d70ff3-7208-44e3-9833-7ccfb2770c79 button');\n",
              "      quickchartButtonEl.style.display =\n",
              "        google.colab.kernel.accessAllowed ? 'block' : 'none';\n",
              "    })();\n",
              "  </script>\n",
              "</div>\n",
              "\n",
              "    </div>\n",
              "  </div>\n"
            ],
            "application/vnd.google.colaboratory.intrinsic+json": {
              "type": "dataframe",
              "variable_name": "topic_copy",
              "summary": "{\n  \"name\": \"topic_copy\",\n  \"rows\": 10001,\n  \"fields\": [\n    {\n      \"column\": \"title\",\n      \"properties\": {\n        \"dtype\": \"string\",\n        \"num_unique_values\": 9924,\n        \"samples\": [\n          \"\\u00e0\\u00b0\\u2020 \\u00e0\\u00b0\\u00a6\\u00e0\\u00b1\\u0081\\u00e0\\u00b0\\u00b0\\u00e0\\u00b1\\u008d\\u00e0\\u00b0\\u2014\\u00e0\\u00b0\\u00be \\u00e0\\u00b0\\u2020\\u00e0\\u00b0\\u00b2\\u00e0\\u00b0\\u00af\\u00e0\\u00b0\\u201a\\u00e0\\u00b0\\u00b2\\u00e0\\u00b1\\u2039 \\u00e0\\u00b0\\u00ae\\u00e0\\u00b1\\u0081\\u00e0\\u00b0\\u00b8\\u00e0\\u00b1\\u008d\\u00e0\\u00b0\\u00b2\\u00e0\\u00b0\\u00bf\\u00e0\\u00b0\\u201a\\u00e0\\u00b0\\u00b2\\u00e0\\u00b1\\u2021 \\u00e0\\u00b0\\u00a4\\u00e0\\u00b0\\u00b0\\u00e0\\u00b0\\u00b0\\u00e0\\u00b0\\u00be\\u00e0\\u00b0\\u00b2\\u00e0\\u00b1\\u0081\\u00e0\\u00b0\\u2014\\u00e0\\u00b0\\u00be \\u00e0\\u00b0\\u00aa\\u00e0\\u00b1\\u201a\\u00e0\\u00b0\\u0153\\u00e0\\u00b0\\u00be\\u00e0\\u00b0\\u00b0\\u00e0\\u00b1\\u0081\\u00e0\\u00b0\\u00b2\\u00e0\\u00b1\\u0081.. \\u00e0\\u00b0\\u2020 \\u00e0\\u00b0\\u2020\\u00e0\\u00b0\\u00b2\\u00e0\\u00b0\\u00af\\u00e0\\u00b0\\u201a \\u00e0\\u00b0\\u017d\\u00e0\\u00b0\\u2022\\u00e0\\u00b1\\u008d\\u00e0\\u00b0\\u2022\\u00e0\\u00b0\\u00a1 \\u00e0\\u00b0\\u2026\\u00e0\\u00b0\\u201a\\u00e0\\u00b0\\u0178\\u00e0\\u00b1\\u2021..?\",\n          \"\\u00e2\\u20ac\\u02dcLiterally a lacerated spleen\\u00e2\\u20ac\\u2122: Cox details scary internal injury; Thomas fined, returns to training\",\n          \"89 \\u00e0\\u00a4\\u00b8\\u00e0\\u00a4\\u00be\\u00e0\\u00a4\\u00b2 \\u00e0\\u00a4\\u2022\\u00e0\\u00a5\\u20ac \\u00e0\\u00a4\\u2030\\u00e0\\u00a4\\u00ae\\u00e0\\u00a5\\u008d\\u00e0\\u00a4\\u00b0 \\u00e0\\u00a4\\u00ae\\u00e0\\u00a5\\u2021\\u00e0\\u00a4\\u201a \\u00e0\\u00a4\\u2026\\u00e0\\u00a4\\u2022\\u00e0\\u00a5\\u008d\\u00e0\\u00a4\\u00b7\\u00e0\\u00a4\\u00af \\u00e0\\u00a4\\u2022\\u00e0\\u00a5\\u0081\\u00e0\\u00a4\\u00ae\\u00e0\\u00a4\\u00be\\u00e0\\u00a4\\u00b0 \\u00e0\\u00a4\\u00b5\\u00e0\\u00a4\\u00be\\u00e0\\u00a4\\u00b2\\u00e0\\u00a4\\u00be \\u00e0\\u00a4\\u0090\\u00e0\\u00a4\\u2022\\u00e0\\u00a5\\u008d\\u00e2\\u20ac\\u008d\\u00e0\\u00a4\\u00b6\\u00e0\\u00a4\\u00a8... \\u00e0\\u00a4\\u00b8\\u00e0\\u00a4\\u00ae\\u00e0\\u00a4\\u201a\\u00e0\\u00a4\\u00a6\\u00e0\\u00a4\\u00b0 \\u00e0\\u00a4\\u2022\\u00e0\\u00a5\\u20ac \\u00e0\\u00a4\\u00b2\\u00e0\\u00a4\\u00b9\\u00e0\\u00a4\\u00b0\\u00e0\\u00a5\\u2039\\u00e0\\u00a4\\u201a \\u00e0\\u00a4\\u00b8\\u00e0\\u00a5\\u2021 \\u00e0\\u00a4\\u2021\\u00e0\\u00a4\\u00b8 \\u00e0\\u00a4\\u00ac\\u00e0\\u00a5\\u0081\\u00e0\\u00a4\\u0153\\u00e0\\u00a5\\u0081\\u00e0\\u00a4\\u00b0\\u00e0\\u00a5\\u008d\\u00e0\\u00a4\\u2014 \\u00e0\\u00a4\\u2022\\u00e0\\u00a4\\u00be \\u00e0\\u00a4\\u2013\\u00e0\\u00a4\\u00bf\\u00e0\\u00a4\\u00b2\\u00e0\\u00a4\\u00b5\\u00e0\\u00a4\\u00be\\u00e0\\u00a4\\u00a1\\u00e0\\u00a4\\u00bc \\u00e0\\u00a4\\u00b9\\u00e0\\u00a4\\u00bf\\u00e0\\u00a4\\u00b2\\u00e0\\u00a4\\u00be \\u00e0\\u00a4\\u00a6\\u00e0\\u00a5\\u2021\\u00e0\\u00a4\\u2014\\u00e0\\u00a4\\u00be!\"\n        ],\n        \"semantic_type\": \"\",\n        \"description\": \"\"\n      }\n    },\n    {\n      \"column\": \"content\",\n      \"properties\": {\n        \"dtype\": \"string\",\n        \"num_unique_values\": 10000,\n        \"samples\": [\n          \"1c7593129b469f0f637d0c31702caca2a43d11364f196fa0171cf76608927ec4e3148d7a853a12fa94750c8204d79d6d2383b86255b41e900bd2f8de50d26c12.txt\",\n          \"f78ec0e4982bfb56f95ca81bfec88d8784f98aa92c01c54341a820dad9aeca2ee5cde67538ef979f73072c8c306d324da80297ee333ec53cdb08f459fceb224a.txt\",\n          \"ad9ffcd45ce0fcf4bb188c6f465194a42bb7acbd9328aa7d5753c45babd3d8eb2dbfb7f6b5fef3eecf7f997e11d8987c04eb8a994f9ead3324c0efda26418cf3.txt\"\n        ],\n        \"semantic_type\": \"\",\n        \"description\": \"\"\n      }\n    },\n    {\n      \"column\": \"keywords\",\n      \"properties\": {\n        \"dtype\": \"string\",\n        \"num_unique_values\": 9848,\n        \"samples\": [\n          \"['questions', 'years', 'association', 'volunteers', 'creation', 'objective', 'university', 'students', 'finance', 'studies', 'money', 'lillah', 'Today', 'work', 'relation', 'members', 'salary', 'employee', 'regulations', 'nonMuslim', 'amount', 'account', 'accountants', 'cost', 'remunerate', 'accountant', 'thats', 'hilat', 'ghusl', 'burial', 'logistics', 'cemetery', 'property', 'process', 'statute', 'lawyer', 'service', 'remuneration', 'nonMuslims', 'advance', 'answers', 'prayer', 'worship', 'obedience', 'alBaqarah', 'conditions', 'fulfilment', 'recipients', 'owners', 'equivalents', 'stipulations', 'compulsions', 'alRiq', 'vol', 'pg', 'Zakt', 'purposes', 'wages', 'portion', 'collectors', 'government', 'countries', 'wage', 'collections', 'alternative', 'charities', 'donors', 'percentage', 'donations', 'costs', 'employees', 'zakat', 'fund', 'darul', 'ifta', 'birmingham']\",\n          \"['bulk', 'drugs', 'ganja', 'police', 'increase', 'types', 'streets', 'cocaine', 'opioids', 'pharmaceuticals', 'management', 'emergence', 'fentanyl', 'opioid', 'overdose', 'crisis', 'press', 'conference', 'crime', 'statistics', 'members', 'visit', 'representatives', 'experiences', 'drug', 'trafficking', 'Cocaine', 'life', 'car', 'thefts', 'burglary', 'number', 'offenders', 'users', 'substance', 'abuse', 'problems', 'difficulties', 'homelessness', 'impacts', 'behaviour', 'supply', 'offences', 'investigations', 'cash', 'money', 'street', 'value', 'operations', 'beaches', 'islands', 'seizures', 'sea', 'traffickers', 'awareness', 'ability', 'canoes', 'waters', 'proactive', 'collaboration', 'partners', 'type', 'amount', 'ecstasy', 'prescription', 'Opioids', 'concern', 'arrival', 'possibility', 'antidote', 'lifesaving', 'medication', 'alcohol', 'fuels', 'percentage', 'cases', 'violence', 'possessions', 'importation', 'searches', 'crimes', 'busts', 'cayman', 'headline', 'news']\",\n          \"['life', 'savings', 'daughters', 'cancer', 'treatment', 'lottery', 'jackpot', 'scratchoff', 'ticket', 'gas', 'station', 'round', 'wrote\\\\xa0Gimblet', 'purchase', 'crossword', 'game', 'lotery', 'tickets', 'clerk', 'losses', 'worker', 'games', 'best\\\\xa0she', 'cash', 'prize', 'daughter', 'granddaughter', 'money', 'the\\\\xa0Lotterys', 'website\\\\xa0After', 'lumpsum', 'payment', 'chance', 'family', 'breast', 'girls', 'mom', 'bell', 'hospital', 'cancer\\\\xa0her', 'herflorida', 'mother', 'florida']\"\n        ],\n        \"semantic_type\": \"\",\n        \"description\": \"\"\n      }\n    },\n    {\n      \"column\": \"entities\",\n      \"properties\": {\n        \"dtype\": \"string\",\n        \"num_unique_values\": 9740,\n        \"samples\": [\n          \"['Alexander', 'Kaplan', 'Jefferies Financial Group', 'LyondellBasell Industries', 'KeyCorp', 'BMO Capital Markets', 'Barclays', 'Credit Suisse Group', 'NYSE LYB', 'Blair William  Co IL', 'Sei Investments Co', 'Prudential PLC', 'Moors  Cabot Inc', 'SEC', 'Thursday April', 'Hold', 'EPS', 'Tuesday April', 'Wednesday February', 'Monday March', 'Monday April', 'Monday February', 'PE', 'Friday February', 'Blair William Co IL', 'Moors Cabot Inc', 'EVP Jeffrey', 'Tuesday February', 'Friday March', 'LyondellBasell', 'Industries NV', 'PolyolefinsAmericas', 'News', 'MarketBeatcoms FREE']\",\n          \"['Bailey', 'Lt Gen Rana Pratap Kalita', 'Kazirangas', 'Jatindra Sarma', 'Sarma', 'Army', 'Tiger Reserve', 'Eastern Command', 'GUWAHATI', 'Kaziranga National Park', 'Kaziranga', 'Mihi', 'Kohora Kathparaghat', 'Bagori', 'Rongamotia', 'Agoratoli', 'Brahmaputra River', 'Indiaarmy', 'Gen Rana Pratap Kalita', 'U N World Heritage Site', 'Bagori and Rongamotia', 'Mr Sarma', 'Many']\",\n          \"['Toby Davyd', 'Toby', 'Heart Cry', 'Heart Cry Toby Davyd', 'Heart', 'God']\"\n        ],\n        \"semantic_type\": \"\",\n        \"description\": \"\"\n      }\n    },\n    {\n      \"column\": \"keywords_ex\",\n      \"properties\": {\n        \"dtype\": \"string\",\n        \"num_unique_values\": 9490,\n        \"samples\": [\n          \"['subways', 'coney island', 'bowery boys', 'Miss subways', 'Miss', 'New York']\",\n          \"['healthcare solution', 'vdi']\",\n          \"['singlestore notebook', 'data', 'data exploration', 'machine', 'connection', 'database', 'analytics', 'users', 'following', 'notebook feature', 'Notebook', 'SQL', 'Python', 'Notebooks', 'SingleStores Notebook', 'SingleStore Notebook']\"\n        ],\n        \"semantic_type\": \"\",\n        \"description\": \"\"\n      }\n    },\n    {\n      \"column\": \"topic\",\n      \"properties\": {\n        \"dtype\": \"category\",\n        \"num_unique_values\": 9,\n        \"samples\": [\n          \"entertainment\",\n          \"sports\",\n          \"politics\"\n        ],\n        \"semantic_type\": \"\",\n        \"description\": \"\"\n      }\n    },\n    {\n      \"column\": \"content_file\",\n      \"properties\": {\n        \"dtype\": \"object\",\n        \"num_unique_values\": 1,\n        \"samples\": [\n          \"\"\n        ],\n        \"semantic_type\": \"\",\n        \"description\": \"\"\n      }\n    }\n  ]\n}"
            }
          },
          "metadata": {},
          "execution_count": 11
        }
      ]
    },
    {
      "cell_type": "code",
      "source": [
        "for index, row in topic_copy.iterrows():\n",
        "  if not isinstance(row['content'], str):\n",
        "    print(f\"Row {index}: {row['content']} is not a string\")"
      ],
      "metadata": {
        "colab": {
          "base_uri": "https://localhost:8080/"
        },
        "id": "qGKd1cjaIUiY",
        "outputId": "fddaec04-21f7-42b5-e2eb-2a948418dfbb"
      },
      "execution_count": null,
      "outputs": [
        {
          "output_type": "stream",
          "name": "stdout",
          "text": [
            "Row 10000: nan is not a string\n"
          ]
        }
      ]
    },
    {
      "cell_type": "code",
      "source": [
        "# iterate in dataset\n",
        "for index, row in topic_copy.iterrows():\n",
        "  file_name=row['content']\n",
        "  file_path=os.path.join('/content/drive/MyDrive/text_subset',str(file_name))\n",
        "  if os.path.exists(file_path):\n",
        "    content=read_text_file(file_path)\n",
        "    topic_copy.at[index,'content_file']=content\n",
        "\n",
        "topic_copy.to_excel('topics_updated.xlsx',index=False)"
      ],
      "metadata": {
        "id": "2wQyPv6QaFws"
      },
      "execution_count": null,
      "outputs": []
    },
    {
      "cell_type": "markdown",
      "source": [
        "## **Text Data Preprocessing**"
      ],
      "metadata": {
        "id": "QaZBpfkkOQW9"
      }
    },
    {
      "cell_type": "code",
      "source": [
        "topic_copy=topic.copy()"
      ],
      "metadata": {
        "id": "IM-0ymdBNBEn"
      },
      "execution_count": 8,
      "outputs": []
    },
    {
      "cell_type": "code",
      "source": [
        "import re\n",
        "def preprocess(text):\n",
        "  if isinstance(text,str):\n",
        "    text=re.sub(r'@\\w+', '', text) #remove username\n",
        "    text=re.sub(r'\\S+@\\S+', '', text) #remove email id\n",
        "    text=re.sub(r'#\\w+', '', text) #remove hashtag\n",
        "    text=re.sub(r'https?://\\S+', '', text) #remove links\n",
        "    text=re.sub(r'[^a-zA-Z0-9\\s$!]+', '', text) #remove special characters\n",
        "    text=text.lower() # covert to lower case\n",
        "    return text\n",
        "  else:\n",
        "    return text\n",
        "topic_copy['cleaned_content_file']=topic_copy['content_file'].apply(preprocess)\n",
        "topic_copy.head(2)"
      ],
      "metadata": {
        "id": "kAAI0U9GfCIK",
        "colab": {
          "base_uri": "https://localhost:8080/",
          "height": 375
        },
        "outputId": "81c666ee-f901-4d8b-9aa8-25b72d458255"
      },
      "execution_count": 9,
      "outputs": [
        {
          "output_type": "execute_result",
          "data": {
            "text/plain": [
              "                                               title  \\\n",
              "0  Bicep Curl Drop Set: Pump Your Guns and Maximi...   \n",
              "1      Wabash Theater Closes Season with Hand to God   \n",
              "\n",
              "                                             content  \\\n",
              "0  fcda08714583ddf76ea02784122767b0538730be9a2376...   \n",
              "1  f76bad70f9f327139e4a0014e599971169ae806b5f27e9...   \n",
              "\n",
              "                                            keywords  \\\n",
              "0  ['biceps', 'muscle', 'leg', 'days', 'youll', '...   \n",
              "1  ['caps', 'mainstage', 'comedies', 'fivetime', ...   \n",
              "\n",
              "                                            entities  \\\n",
              "0  ['Drop', 'Muscleripping', 'Research', 'Plan', ...   \n",
              "1  ['Robert Askins', 'Jason', 'Jim Cherry', 'Marg...   \n",
              "\n",
              "                                         keywords_ex          topic  \\\n",
              "0  ['drop set', 'drop sets', 'sets', 'Drop set', ...        unknown   \n",
              "1  ['puppet', 'wabash theater', 'play', 'Jason', ...  entertainment   \n",
              "\n",
              "                                        content_file  \\\n",
              "0  The biceps are arguably the most loved muscle ...   \n",
              "1  The Wabash Theater Department caps a year of m...   \n",
              "\n",
              "                                cleaned_content_file  \n",
              "0  the biceps are arguably the most loved muscle ...  \n",
              "1  the wabash theater department caps a year of m...  "
            ],
            "text/html": [
              "\n",
              "  <div id=\"df-f7c1730b-13d6-4ac8-bc6f-121ab237014d\" class=\"colab-df-container\">\n",
              "    <div>\n",
              "<style scoped>\n",
              "    .dataframe tbody tr th:only-of-type {\n",
              "        vertical-align: middle;\n",
              "    }\n",
              "\n",
              "    .dataframe tbody tr th {\n",
              "        vertical-align: top;\n",
              "    }\n",
              "\n",
              "    .dataframe thead th {\n",
              "        text-align: right;\n",
              "    }\n",
              "</style>\n",
              "<table border=\"1\" class=\"dataframe\">\n",
              "  <thead>\n",
              "    <tr style=\"text-align: right;\">\n",
              "      <th></th>\n",
              "      <th>title</th>\n",
              "      <th>content</th>\n",
              "      <th>keywords</th>\n",
              "      <th>entities</th>\n",
              "      <th>keywords_ex</th>\n",
              "      <th>topic</th>\n",
              "      <th>content_file</th>\n",
              "      <th>cleaned_content_file</th>\n",
              "    </tr>\n",
              "  </thead>\n",
              "  <tbody>\n",
              "    <tr>\n",
              "      <th>0</th>\n",
              "      <td>Bicep Curl Drop Set: Pump Your Guns and Maximi...</td>\n",
              "      <td>fcda08714583ddf76ea02784122767b0538730be9a2376...</td>\n",
              "      <td>['biceps', 'muscle', 'leg', 'days', 'youll', '...</td>\n",
              "      <td>['Drop', 'Muscleripping', 'Research', 'Plan', ...</td>\n",
              "      <td>['drop set', 'drop sets', 'sets', 'Drop set', ...</td>\n",
              "      <td>unknown</td>\n",
              "      <td>The biceps are arguably the most loved muscle ...</td>\n",
              "      <td>the biceps are arguably the most loved muscle ...</td>\n",
              "    </tr>\n",
              "    <tr>\n",
              "      <th>1</th>\n",
              "      <td>Wabash Theater Closes Season with Hand to God</td>\n",
              "      <td>f76bad70f9f327139e4a0014e599971169ae806b5f27e9...</td>\n",
              "      <td>['caps', 'mainstage', 'comedies', 'fivetime', ...</td>\n",
              "      <td>['Robert Askins', 'Jason', 'Jim Cherry', 'Marg...</td>\n",
              "      <td>['puppet', 'wabash theater', 'play', 'Jason', ...</td>\n",
              "      <td>entertainment</td>\n",
              "      <td>The Wabash Theater Department caps a year of m...</td>\n",
              "      <td>the wabash theater department caps a year of m...</td>\n",
              "    </tr>\n",
              "  </tbody>\n",
              "</table>\n",
              "</div>\n",
              "    <div class=\"colab-df-buttons\">\n",
              "\n",
              "  <div class=\"colab-df-container\">\n",
              "    <button class=\"colab-df-convert\" onclick=\"convertToInteractive('df-f7c1730b-13d6-4ac8-bc6f-121ab237014d')\"\n",
              "            title=\"Convert this dataframe to an interactive table.\"\n",
              "            style=\"display:none;\">\n",
              "\n",
              "  <svg xmlns=\"http://www.w3.org/2000/svg\" height=\"24px\" viewBox=\"0 -960 960 960\">\n",
              "    <path d=\"M120-120v-720h720v720H120Zm60-500h600v-160H180v160Zm220 220h160v-160H400v160Zm0 220h160v-160H400v160ZM180-400h160v-160H180v160Zm440 0h160v-160H620v160ZM180-180h160v-160H180v160Zm440 0h160v-160H620v160Z\"/>\n",
              "  </svg>\n",
              "    </button>\n",
              "\n",
              "  <style>\n",
              "    .colab-df-container {\n",
              "      display:flex;\n",
              "      gap: 12px;\n",
              "    }\n",
              "\n",
              "    .colab-df-convert {\n",
              "      background-color: #E8F0FE;\n",
              "      border: none;\n",
              "      border-radius: 50%;\n",
              "      cursor: pointer;\n",
              "      display: none;\n",
              "      fill: #1967D2;\n",
              "      height: 32px;\n",
              "      padding: 0 0 0 0;\n",
              "      width: 32px;\n",
              "    }\n",
              "\n",
              "    .colab-df-convert:hover {\n",
              "      background-color: #E2EBFA;\n",
              "      box-shadow: 0px 1px 2px rgba(60, 64, 67, 0.3), 0px 1px 3px 1px rgba(60, 64, 67, 0.15);\n",
              "      fill: #174EA6;\n",
              "    }\n",
              "\n",
              "    .colab-df-buttons div {\n",
              "      margin-bottom: 4px;\n",
              "    }\n",
              "\n",
              "    [theme=dark] .colab-df-convert {\n",
              "      background-color: #3B4455;\n",
              "      fill: #D2E3FC;\n",
              "    }\n",
              "\n",
              "    [theme=dark] .colab-df-convert:hover {\n",
              "      background-color: #434B5C;\n",
              "      box-shadow: 0px 1px 3px 1px rgba(0, 0, 0, 0.15);\n",
              "      filter: drop-shadow(0px 1px 2px rgba(0, 0, 0, 0.3));\n",
              "      fill: #FFFFFF;\n",
              "    }\n",
              "  </style>\n",
              "\n",
              "    <script>\n",
              "      const buttonEl =\n",
              "        document.querySelector('#df-f7c1730b-13d6-4ac8-bc6f-121ab237014d button.colab-df-convert');\n",
              "      buttonEl.style.display =\n",
              "        google.colab.kernel.accessAllowed ? 'block' : 'none';\n",
              "\n",
              "      async function convertToInteractive(key) {\n",
              "        const element = document.querySelector('#df-f7c1730b-13d6-4ac8-bc6f-121ab237014d');\n",
              "        const dataTable =\n",
              "          await google.colab.kernel.invokeFunction('convertToInteractive',\n",
              "                                                    [key], {});\n",
              "        if (!dataTable) return;\n",
              "\n",
              "        const docLinkHtml = 'Like what you see? Visit the ' +\n",
              "          '<a target=\"_blank\" href=https://colab.research.google.com/notebooks/data_table.ipynb>data table notebook</a>'\n",
              "          + ' to learn more about interactive tables.';\n",
              "        element.innerHTML = '';\n",
              "        dataTable['output_type'] = 'display_data';\n",
              "        await google.colab.output.renderOutput(dataTable, element);\n",
              "        const docLink = document.createElement('div');\n",
              "        docLink.innerHTML = docLinkHtml;\n",
              "        element.appendChild(docLink);\n",
              "      }\n",
              "    </script>\n",
              "  </div>\n",
              "\n",
              "\n",
              "<div id=\"df-4de86518-950b-4ecc-a07b-f1b5393f5988\">\n",
              "  <button class=\"colab-df-quickchart\" onclick=\"quickchart('df-4de86518-950b-4ecc-a07b-f1b5393f5988')\"\n",
              "            title=\"Suggest charts\"\n",
              "            style=\"display:none;\">\n",
              "\n",
              "<svg xmlns=\"http://www.w3.org/2000/svg\" height=\"24px\"viewBox=\"0 0 24 24\"\n",
              "     width=\"24px\">\n",
              "    <g>\n",
              "        <path d=\"M19 3H5c-1.1 0-2 .9-2 2v14c0 1.1.9 2 2 2h14c1.1 0 2-.9 2-2V5c0-1.1-.9-2-2-2zM9 17H7v-7h2v7zm4 0h-2V7h2v10zm4 0h-2v-4h2v4z\"/>\n",
              "    </g>\n",
              "</svg>\n",
              "  </button>\n",
              "\n",
              "<style>\n",
              "  .colab-df-quickchart {\n",
              "      --bg-color: #E8F0FE;\n",
              "      --fill-color: #1967D2;\n",
              "      --hover-bg-color: #E2EBFA;\n",
              "      --hover-fill-color: #174EA6;\n",
              "      --disabled-fill-color: #AAA;\n",
              "      --disabled-bg-color: #DDD;\n",
              "  }\n",
              "\n",
              "  [theme=dark] .colab-df-quickchart {\n",
              "      --bg-color: #3B4455;\n",
              "      --fill-color: #D2E3FC;\n",
              "      --hover-bg-color: #434B5C;\n",
              "      --hover-fill-color: #FFFFFF;\n",
              "      --disabled-bg-color: #3B4455;\n",
              "      --disabled-fill-color: #666;\n",
              "  }\n",
              "\n",
              "  .colab-df-quickchart {\n",
              "    background-color: var(--bg-color);\n",
              "    border: none;\n",
              "    border-radius: 50%;\n",
              "    cursor: pointer;\n",
              "    display: none;\n",
              "    fill: var(--fill-color);\n",
              "    height: 32px;\n",
              "    padding: 0;\n",
              "    width: 32px;\n",
              "  }\n",
              "\n",
              "  .colab-df-quickchart:hover {\n",
              "    background-color: var(--hover-bg-color);\n",
              "    box-shadow: 0 1px 2px rgba(60, 64, 67, 0.3), 0 1px 3px 1px rgba(60, 64, 67, 0.15);\n",
              "    fill: var(--button-hover-fill-color);\n",
              "  }\n",
              "\n",
              "  .colab-df-quickchart-complete:disabled,\n",
              "  .colab-df-quickchart-complete:disabled:hover {\n",
              "    background-color: var(--disabled-bg-color);\n",
              "    fill: var(--disabled-fill-color);\n",
              "    box-shadow: none;\n",
              "  }\n",
              "\n",
              "  .colab-df-spinner {\n",
              "    border: 2px solid var(--fill-color);\n",
              "    border-color: transparent;\n",
              "    border-bottom-color: var(--fill-color);\n",
              "    animation:\n",
              "      spin 1s steps(1) infinite;\n",
              "  }\n",
              "\n",
              "  @keyframes spin {\n",
              "    0% {\n",
              "      border-color: transparent;\n",
              "      border-bottom-color: var(--fill-color);\n",
              "      border-left-color: var(--fill-color);\n",
              "    }\n",
              "    20% {\n",
              "      border-color: transparent;\n",
              "      border-left-color: var(--fill-color);\n",
              "      border-top-color: var(--fill-color);\n",
              "    }\n",
              "    30% {\n",
              "      border-color: transparent;\n",
              "      border-left-color: var(--fill-color);\n",
              "      border-top-color: var(--fill-color);\n",
              "      border-right-color: var(--fill-color);\n",
              "    }\n",
              "    40% {\n",
              "      border-color: transparent;\n",
              "      border-right-color: var(--fill-color);\n",
              "      border-top-color: var(--fill-color);\n",
              "    }\n",
              "    60% {\n",
              "      border-color: transparent;\n",
              "      border-right-color: var(--fill-color);\n",
              "    }\n",
              "    80% {\n",
              "      border-color: transparent;\n",
              "      border-right-color: var(--fill-color);\n",
              "      border-bottom-color: var(--fill-color);\n",
              "    }\n",
              "    90% {\n",
              "      border-color: transparent;\n",
              "      border-bottom-color: var(--fill-color);\n",
              "    }\n",
              "  }\n",
              "</style>\n",
              "\n",
              "  <script>\n",
              "    async function quickchart(key) {\n",
              "      const quickchartButtonEl =\n",
              "        document.querySelector('#' + key + ' button');\n",
              "      quickchartButtonEl.disabled = true;  // To prevent multiple clicks.\n",
              "      quickchartButtonEl.classList.add('colab-df-spinner');\n",
              "      try {\n",
              "        const charts = await google.colab.kernel.invokeFunction(\n",
              "            'suggestCharts', [key], {});\n",
              "      } catch (error) {\n",
              "        console.error('Error during call to suggestCharts:', error);\n",
              "      }\n",
              "      quickchartButtonEl.classList.remove('colab-df-spinner');\n",
              "      quickchartButtonEl.classList.add('colab-df-quickchart-complete');\n",
              "    }\n",
              "    (() => {\n",
              "      let quickchartButtonEl =\n",
              "        document.querySelector('#df-4de86518-950b-4ecc-a07b-f1b5393f5988 button');\n",
              "      quickchartButtonEl.style.display =\n",
              "        google.colab.kernel.accessAllowed ? 'block' : 'none';\n",
              "    })();\n",
              "  </script>\n",
              "</div>\n",
              "\n",
              "    </div>\n",
              "  </div>\n"
            ],
            "application/vnd.google.colaboratory.intrinsic+json": {
              "type": "dataframe",
              "variable_name": "topic_copy",
              "summary": "{\n  \"name\": \"topic_copy\",\n  \"rows\": 368,\n  \"fields\": [\n    {\n      \"column\": \"title\",\n      \"properties\": {\n        \"dtype\": \"string\",\n        \"num_unique_values\": 368,\n        \"samples\": [\n          \"BP (LON:BP) PT Lowered to GBX 570\",\n          \"Photos of solar sheep and an eco-winery capture Italy\\u00e2\\u20ac\\u2122s green journey\",\n          \"Kilroy Realty Co. (NYSE:KRC) Short Interest Update\"\n        ],\n        \"semantic_type\": \"\",\n        \"description\": \"\"\n      }\n    },\n    {\n      \"column\": \"content\",\n      \"properties\": {\n        \"dtype\": \"string\",\n        \"num_unique_values\": 368,\n        \"samples\": [\n          \"f9cf210d5ce0cc0ecf978654349af6fab21dc5502a0500fa81c86daaad3338102f3237c8a655e7802450b609980dc90b268fdf3e29d0a46ebb76290b4c23d715.txt\",\n          \"ffd0942c8633e8fddfe2b7489311aaf6c3b1a09f28a8ba9f57d6e51727c97b3931fb95286cd3d41bf27865e5b00bdb61fa61bf0fdf9acf3bedd95b7351f5404b.txt\",\n          \"7efce3acc53c50dc81e616817bd63de0cc3da2c328c13cf94263f4f4969c97ae0dc1079b2bb7ca185c0c32622ee470b6d1ee832357179cecb4670407c23688c7.txt\"\n        ],\n        \"semantic_type\": \"\",\n        \"description\": \"\"\n      }\n    },\n    {\n      \"column\": \"keywords\",\n      \"properties\": {\n        \"dtype\": \"string\",\n        \"num_unique_values\": 362,\n        \"samples\": [\n          \"['rate', 'hikes', 'table', 'Investors', 'Immuron', 'uptick', 'travel', 'globe', 'quarter', 'sales', 'gut', 'products', 'financials', 'months', 'company', 'business', 'update', 'webinar', 'today', 'Registrations', 'scale', 'yeartodate', 'product', 'portfolio', 'pipeline', 'Immurons', 'metrics', 'half', 'attributes', 'rebound', 'departures', 'levels', 'return', 'holidaymaking', 'wake', 'demand', 'wholesalers', 'line', 'pharmacy', 'Travelan', 'pace', 'revenue', 'period', 'clinics', 'distributor', 'growth', 'brand', 'peak', 'inventory', 'overthecounter', 'supplement', 'patients', 'travellers', 'sickness', 'diarrhoea', 'antibody', 'treatment', 'bacteria', 'toxins', 'markets', 'release', 'home', 'soil', 'interview', 'focus', 'wouldnt', 'price', 'patient', 'target', 'population', 'thats', 'highrisk', 'regions', 'theres', 'plans', 'companys', 'prospects', 'consulting', 'companies', 'research', 'market', 'mix', 'desktop', 'base', 'case', 'annum', 'opportunities', 'programs', 'revealsimmuron', 'proactive', 'investors', 'immuron']\",\n          \"['sheep', 'field', 'panels', 'wine', 'photographer', 'Luigi', 'greening', 'scale', 'home', 'days', 'hectares', 'farm', 'kilometres', 'synergy', 'dairy', 'turf', 'areas', 'peak', 'megawatts', 'electricity', 'project', 'series', 'examples', 'sustainability', 'sizes', 'arent', 'players', 'energy', 'provider', 'heroes', 'outsiders', 'models', 'selfproduction', 'consumption', 'make', 'difference', 'crisis', 'cellar\\\\xa0of', 'winery', 'picture', 'view', 'entrance', 'cellar', 'gardens', 'recovery', 'ventilation', 'insulate', 'summer', 'heat', 'air', 'conditioning', 'collectors', 'mirrors', 'channel', 'sunlight', 'levels', 'says', 'plant', 'river', 'network', 'community', 'ecowinery', 'capture', 'italys', 'journey', 'photos']\",\n          \"['Kilroy', 'target', 'increase', 'interest', 'shares', 'volume', 'shortinterest', 'ratio', 'days', 'company', 'Shares', 'debttoequity', 'firm', 'market', 'capitalization', 'pricetoearningsgrowth', 'beta', 'stocks', 'moving', 'business', 'dividend', 'Shareholders', 'record', 'yield', 'exdividend', 'date', 'payout', 'hedge', 'funds', 'stakes', 'stock', 'stake', 'quarter', 'estate', 'investment', 'period', 'Employees', 'investors', 'companys', 'analysts', 'price', 'rating', 'report', 'JPMorgan', 'buy', 'hold', 'move', 'valuation', 'call', 'analyst', 'sell', 'trust', 'development', 'acquisition', 'management', 'office', 'mixeduse', 'assets', 'develops', 'properties', 'regions', 'Ratings', 'email', 'address', 'summary', 'news', 'ratings', 'companies', 'newsletterkilroy', 'realty', 'nysekrc', 'update', 'kilroy']\"\n        ],\n        \"semantic_type\": \"\",\n        \"description\": \"\"\n      }\n    },\n    {\n      \"column\": \"entities\",\n      \"properties\": {\n        \"dtype\": \"string\",\n        \"num_unique_values\": 361,\n        \"samples\": [\n          \"['Immuron', 'Travelan', 'Protectyn', 'Steven Lydeamore', 'Lydeamore', 'RBA', 'IMC', 'Australia', 'North America', 'Canada', 'Stock to Buy', 'Stock to Sell', 'Week Netflix Tesla', 'Ltd NASDAQIMRN ASXIMC', 'Travelan and Protectyn', 'AEST', 'Immurons', 'Bureau', 'Statistics', 'Passport Health', 'LPS', 'Imodium', 'GastroStop', 'CEO']\",\n          \"['Luigi Avantaggiato', 'Buon Pastore', 'Islands of Energy', 'Eni', 'Italy', 'SantAlberto Italy', 'Ravenna', 'Salcheto', 'Montepulciano  Below', 'Montepulciano Vertical', 'Angeli di Rosora', 'Italyphotos', 'Islands', 'Energy', 'Avantaggiato', 'Gas', 'Montepulciano', 'Esino', 'Leaf Community']\",\n          \"['Kilroy Realty Co NYSEKRC', 'KRC', 'Kilroy Realty', 'LPL Financial LLC', 'MT Bank Corp', 'Wells Fargo  Company', 'JPMorgan Chase  Co', 'Mizuho', 'Jefferies Financial Group', 'MarketBeatcom', 'Kilroy Realty Corp', 'San Francisco Bay Area', 'PE', 'Wednesday April', 'Friday March', 'Thursday March', 'Kilroy Realtys', 'Oregon Public', 'Retirement Fund', 'Institutional', 'Wells Fargo Company', 'Wednesday March', 'Chase Co', 'Monday January', 'Wednesday January', 'Hold', 'Realty Corp', 'Class', 'News', 'Kilroy Realty Daily Enter', 'MarketBeatcoms FREE']\"\n        ],\n        \"semantic_type\": \"\",\n        \"description\": \"\"\n      }\n    },\n    {\n      \"column\": \"keywords_ex\",\n      \"properties\": {\n        \"dtype\": \"string\",\n        \"num_unique_values\": 352,\n        \"samples\": [\n          \"['life testing', 'food shelf', 'shelf life', 'Business Research Company', 'Europe']\",\n          \"['allianz cup', 'fixtures', 'dmp sharks', 'wasps', 'clubs', 'Allianz', 'Allianz Cup', 'Friendly Series']\",\n          \"['family', 'nikolas', 'spencer', 'rumors', 'hospital blog', 'ship', 'brother ace', 'Spencer', 'Nikolas', 'Victor', 'Uncle Victors']\"\n        ],\n        \"semantic_type\": \"\",\n        \"description\": \"\"\n      }\n    },\n    {\n      \"column\": \"topic\",\n      \"properties\": {\n        \"dtype\": \"category\",\n        \"num_unique_values\": 9,\n        \"samples\": [\n          \"business\",\n          \"entertainment\",\n          \"sports\"\n        ],\n        \"semantic_type\": \"\",\n        \"description\": \"\"\n      }\n    },\n    {\n      \"column\": \"content_file\",\n      \"properties\": {\n        \"dtype\": \"string\",\n        \"num_unique_values\": 368,\n        \"samples\": [\n          \"BP (LON:BP \\u2013 Get Rating) had its price target cut by equities researchers at JPMorgan Chase & Co.  from GBX 585 ($7.24) to GBX 570 ($7.05) in a note issued to investors on Wednesday, The Fly reports. JPMorgan Chase & Co.\\u2018s target price suggests a potential upside of 4.68% from the stock\\u2019s current price.\\n\\nBP has been the topic of several other reports. Barclays  reiterated an \\u201coverweight\\u201d rating and issued a GBX 1,000 ($12.37) price target on shares of BP in a research report on Wednesday, March 1st. Royal Bank of Canada boosted their price target on shares of BP from GBX 550 ($6.81) to GBX 650 ($8.04) and gave the stock an \\u201coutperform\\u201d rating in a research report on Wednesday, February 8th. Citigroup  reiterated a \\u201cbuy\\u201d rating on shares of BP in a research report on Tuesday, March 21st. Bank of America lowered their price target on BP from GBX 550 ($6.81) to GBX 500 ($6.19) and set a \\u201cneutral\\u201d rating for the company in a research note on Tuesday, January 17th. Finally, Berenberg Bank cut BP to a \\u201chold\\u201d rating and boosted their price target for the company from GBX 560 ($6.93) to GBX 590 ($7.30) in a research note on Thursday, February 23rd. Three investment analysts have rated the stock with a hold rating and five have assigned  a buy rating to the company\\u2019s stock. According to MarketBeat, the company  has an average rating of \\u201cModerate Buy\\u201d and a consensus target price of GBX 637.71 ($7.89).\\n\\nShares of LON BP traded up GBX 0.70 ($0.01) during midday trading on Wednesday, reaching GBX 544.50 ($6.74). 33,195,166 shares of the company traded hands, compared to its average volume of 8,560,774. BP has a 52 week low of GBX 359.20 ($4.44) and a 52 week high of GBX 570.57 ($7.06). The stock has a 50-day moving average price of GBX 532.16 and a 200 day moving average price of GBX 494.59. The company has a debt-to-equity ratio of 66.87, a current ratio of 1.09 and a quick ratio of 0.62. The company has a market cap of \\u00a396.54 billion, a price-to-earnings ratio of -5,445.00, a PEG ratio of 0.35 and a beta of 0.61.\\n\\nIn other BP news, insider Murray Auchincloss purchased 67 shares of the business\\u2019s stock in a transaction dated Friday, February 10th. The stock was bought at an average cost of GBX 546 ($6.76) per share, for a total transaction of \\u00a3365.82 ($452.69). In other news, insider Bernard Looney acquired 60 shares of the stock in a transaction dated Tuesday, April 11th. The shares were acquired at an average cost of GBX 532 ($6.58) per share, for a total transaction of \\u00a3319.20 ($395.00). Also, insider Murray Auchincloss purchased 67 shares of the stock in a transaction on Friday, February 10th. The stock was bought at an average price of GBX 546 ($6.76) per share, for a total transaction of \\u00a3365.82 ($452.69). Insiders acquired a total of 195 shares of company stock worth $106,378 over the last three months. 0.25% of the stock is currently owned by insiders.\\n\\nBP p.l.c. engages in the energy business worldwide. It operates through Gas & Low Carbon Energy, Oil Production & Operations, Customers & Products, and Rosneft segments. It produces and trades in natural gas; offers biofuels; operates onshore and offshore wind power, and solar power generating facilities; and provides de-carbonization solutions and services, such as hydrogen and carbon capture and storage.\\n\\nReceive News & Ratings for BP Daily - Enter your email address below to receive a concise daily summary of the latest news and analysts' ratings for BP and related companies with MarketBeat.com's FREE daily email newsletter.\",\n          \"From sheep grazing in a field of solar panels to natural wine chilling, Islands of Energy by photographer Luigi Avantaggiato captures the greening of Italy at every scale\\n\\nFrom sheep grazing in a field of solar panels to natural wine chilling, Islands of Energy by photographer Luigi Avantaggiato captures the greening of Italy at every scale\\n\\nTHESE inquisitive sheep (pictured above) are on their way home after a hard day\\u2019s grazing among the 71 hectares of solar panels at a solar farm in Sant\\u2019Alberto, Italy, a small area about 14 kilometres north of Ravenna.\\n\\nThe solar farm works in synergy with the Buon Pastore dairy and sheep farm, with the sheep helping to maintain the turf areas. The solar panels are capable of generating a peak of 35 megawatts of electricity.\\n\\nThe project is one of several captured by photographer Luigi Avantaggiato for his new series Islands of Energy, which focuses on examples of Italian sustainability of all sizes. These aren\\u2019t big players like British Gas or the Italian energy provider Eni, says Avantaggiato. On the contrary, he says, they are \\u201cheroes\\u201d \\u2013 sustainability outsiders whose models of self-production and electricity consumption make a real difference in the energy crisis.\\n\\nInside the cellar\\u00a0of the Salcheto winery in Montepulciano\\n\\nBelow the picture of the sheep is a view of the entrance to the cellar of the Salcheto winery in Montepulciano. Vertical gardens and a recovery system for natural ventilation insulate it from the summer heat without resorting to air conditioning. Inside, the cellar (pictured above) is lit naturally using solar collectors and curved mirrors to channel sunlight into its various levels. It is \\u201cvery charming\\u201d, says Avantaggiato.\\n\\nA hydroelectric plant on the Esino river at Angeli di Rosora is pictured above. The plant is part of an electricity network that powers the Leaf Community, the first ecologically sustainable community in Italy.\",\n          \"Kilroy Realty Co. (NYSE:KRC \\u2013 Get Rating) was the target of a significant increase in short interest in the month of March. As of March 31st, there was short interest totalling 6,020,000 shares,  an increase of 42.7% from the March 15th total of 4,220,000 shares. Based on an average daily volume of 1,270,000 shares, the short-interest ratio is currently 4.7 days. Approximately 5.2% of the shares of the company are short sold.\\n\\nShares of KRC opened at $30.10 on Wednesday. The company has a quick ratio of 2.09, a current ratio of 2.09 and a debt-to-equity ratio of 0.75. Kilroy Realty has a 12-month low of $27.03 and a 12-month high of $75.90. The firm has a market capitalization of $3.52 billion, a PE ratio of 15.20, a price-to-earnings-growth ratio of 1.90 and a beta of 0.87. The stock\\u2019s fifty day simple moving average is $33.69 and its 200-day simple moving average is $38.22.\\n\\nThe business also recently announced a quarterly dividend, which was paid on Wednesday, April 12th. Shareholders of record on Friday, March 31st were paid a $0.54 dividend. This represents a $2.16 annualized dividend and a yield of 7.18%. The ex-dividend date  was Thursday, March 30th. Kilroy Realty\\u2019s payout ratio is 109.09%.\\n\\nSeveral hedge funds have recently added to or reduced their stakes in the stock. Nissay Asset Management Corp Japan ADV lifted its stake in  Kilroy Realty by 2.6% in the fourth quarter. Nissay Asset Management Corp Japan ADV now owns 11,098 shares of the real estate investment trust\\u2019s stock valued at $429,000 after buying an additional 278 shares during the period.  Ameritas Investment Partners Inc. lifted its stake in  Kilroy Realty by 1.1% in the first quarter. Ameritas Investment Partners Inc. now owns 28,061 shares of the real estate investment trust\\u2019s stock valued at $2,144,000 after buying an additional 298 shares during the period.  Oregon Public Employees Retirement Fund lifted its stake in  Kilroy Realty by 1.0% in the third quarter. Oregon Public Employees Retirement Fund now owns 30,618 shares of the real estate investment trust\\u2019s stock valued at $1,289,000 after buying an additional 300 shares during the period.  LPL Financial LLC lifted its stake in  Kilroy Realty by 7.6% in the second quarter. LPL Financial LLC now owns 4,957 shares of the real estate investment trust\\u2019s stock valued at $259,000 after buying an additional 349 shares during the period.  Finally, M&T Bank Corp lifted its stake in  Kilroy Realty by 2.9% in the third quarter. M&T Bank Corp now owns 12,777 shares of the real estate investment trust\\u2019s stock valued at $537,000 after buying an additional 359 shares during the period. Institutional investors and hedge funds own  89.86% of the company\\u2019s stock.\\n\\nSeveral analysts have recently commented on KRC shares. Wells Fargo & Company decreased their target price on Kilroy Realty from $46.00 to $36.00 and set an \\u201coverweight\\u201d rating on the stock in a report on Thursday, March 16th. Deutsche Bank Aktiengesellschaft decreased their target price on Kilroy Realty from $46.00 to $41.00 in a report on Wednesday, March 1st. JPMorgan Chase & Co. decreased their target price on Kilroy Realty from $54.00 to $47.00 and set a \\u201cneutral\\u201d rating on the stock in a report on Monday, January 23rd. Mizuho decreased their target price on Kilroy Realty from $55.00 to $48.00 and set a \\u201cbuy\\u201d rating on the stock in a report on Wednesday, January 4th. Finally, Jefferies Financial Group cut Kilroy Realty from a \\u201cbuy\\u201d rating to a \\u201chold\\u201d rating and decreased their target price for the stock from $48.00 to $39.00 in a report on Monday, January 2nd. They noted that the move was a valuation call. One investment analyst  has rated the stock with a sell rating, nine have assigned  a hold rating and four have given a buy rating to the company. According to MarketBeat.com, the company  has an average rating of \\u201cHold\\u201d and an average target price of $48.38.\\n\\nKilroy Realty Corp. operates as a self-administered real estate investment trust, which engages in the development, acquisition, and management of office and mixed-use real estate assets. It owns, develops, acquires and manages real estate assets, consisting primarily of Class A properties in the coastal regions of Los Angeles, Orange County, San Diego County, the San Francisco Bay Area, and Greater Seattle.\\n\\nReceive News & Ratings for Kilroy Realty Daily - Enter your email address below to receive a concise daily summary of the latest news and analysts' ratings for Kilroy Realty and related companies with MarketBeat.com's FREE daily email newsletter.\"\n        ],\n        \"semantic_type\": \"\",\n        \"description\": \"\"\n      }\n    },\n    {\n      \"column\": \"cleaned_content_file\",\n      \"properties\": {\n        \"dtype\": \"string\",\n        \"num_unique_values\": 368,\n        \"samples\": [\n          \"bp lonbp  get rating had its price target cut by equities researchers at jpmorgan chase  co  from gbx 585 $724 to gbx 570 $705 in a note issued to investors on wednesday the fly reports jpmorgan chase  cos target price suggests a potential upside of 468 from the stocks current price\\n\\nbp has been the topic of several other reports barclays  reiterated an overweight rating and issued a gbx 1000 $1237 price target on shares of bp in a research report on wednesday march 1st royal bank of canada boosted their price target on shares of bp from gbx 550 $681 to gbx 650 $804 and gave the stock an outperform rating in a research report on wednesday february 8th citigroup  reiterated a buy rating on shares of bp in a research report on tuesday march 21st bank of america lowered their price target on bp from gbx 550 $681 to gbx 500 $619 and set a neutral rating for the company in a research note on tuesday january 17th finally berenberg bank cut bp to a hold rating and boosted their price target for the company from gbx 560 $693 to gbx 590 $730 in a research note on thursday february 23rd three investment analysts have rated the stock with a hold rating and five have assigned  a buy rating to the companys stock according to marketbeat the company  has an average rating of moderate buy and a consensus target price of gbx 63771 $789\\n\\nshares of lon bp traded up gbx 070 $001 during midday trading on wednesday reaching gbx 54450 $674 33195166 shares of the company traded hands compared to its average volume of 8560774 bp has a 52 week low of gbx 35920 $444 and a 52 week high of gbx 57057 $706 the stock has a 50day moving average price of gbx 53216 and a 200 day moving average price of gbx 49459 the company has a debttoequity ratio of 6687 a current ratio of 109 and a quick ratio of 062 the company has a market cap of 9654 billion a pricetoearnings ratio of 544500 a peg ratio of 035 and a beta of 061\\n\\nin other bp news insider murray auchincloss purchased 67 shares of the businesss stock in a transaction dated friday february 10th the stock was bought at an average cost of gbx 546 $676 per share for a total transaction of 36582 $45269 in other news insider bernard looney acquired 60 shares of the stock in a transaction dated tuesday april 11th the shares were acquired at an average cost of gbx 532 $658 per share for a total transaction of 31920 $39500 also insider murray auchincloss purchased 67 shares of the stock in a transaction on friday february 10th the stock was bought at an average price of gbx 546 $676 per share for a total transaction of 36582 $45269 insiders acquired a total of 195 shares of company stock worth $106378 over the last three months 025 of the stock is currently owned by insiders\\n\\nbp plc engages in the energy business worldwide it operates through gas  low carbon energy oil production  operations customers  products and rosneft segments it produces and trades in natural gas offers biofuels operates onshore and offshore wind power and solar power generating facilities and provides decarbonization solutions and services such as hydrogen and carbon capture and storage\\n\\nreceive news  ratings for bp daily  enter your email address below to receive a concise daily summary of the latest news and analysts ratings for bp and related companies with marketbeatcoms free daily email newsletter\",\n          \"from sheep grazing in a field of solar panels to natural wine chilling islands of energy by photographer luigi avantaggiato captures the greening of italy at every scale\\n\\nfrom sheep grazing in a field of solar panels to natural wine chilling islands of energy by photographer luigi avantaggiato captures the greening of italy at every scale\\n\\nthese inquisitive sheep pictured above are on their way home after a hard days grazing among the 71 hectares of solar panels at a solar farm in santalberto italy a small area about 14 kilometres north of ravenna\\n\\nthe solar farm works in synergy with the buon pastore dairy and sheep farm with the sheep helping to maintain the turf areas the solar panels are capable of generating a peak of 35 megawatts of electricity\\n\\nthe project is one of several captured by photographer luigi avantaggiato for his new series islands of energy which focuses on examples of italian sustainability of all sizes these arent big players like british gas or the italian energy provider eni says avantaggiato on the contrary he says they are heroes  sustainability outsiders whose models of selfproduction and electricity consumption make a real difference in the energy crisis\\n\\ninside the cellar\\u00a0of the salcheto winery in montepulciano\\n\\nbelow the picture of the sheep is a view of the entrance to the cellar of the salcheto winery in montepulciano vertical gardens and a recovery system for natural ventilation insulate it from the summer heat without resorting to air conditioning inside the cellar pictured above is lit naturally using solar collectors and curved mirrors to channel sunlight into its various levels it is very charming says avantaggiato\\n\\na hydroelectric plant on the esino river at angeli di rosora is pictured above the plant is part of an electricity network that powers the leaf community the first ecologically sustainable community in italy\",\n          \"kilroy realty co nysekrc  get rating was the target of a significant increase in short interest in the month of march as of march 31st there was short interest totalling 6020000 shares  an increase of 427 from the march 15th total of 4220000 shares based on an average daily volume of 1270000 shares the shortinterest ratio is currently 47 days approximately 52 of the shares of the company are short sold\\n\\nshares of krc opened at $3010 on wednesday the company has a quick ratio of 209 a current ratio of 209 and a debttoequity ratio of 075 kilroy realty has a 12month low of $2703 and a 12month high of $7590 the firm has a market capitalization of $352 billion a pe ratio of 1520 a pricetoearningsgrowth ratio of 190 and a beta of 087 the stocks fifty day simple moving average is $3369 and its 200day simple moving average is $3822\\n\\nthe business also recently announced a quarterly dividend which was paid on wednesday april 12th shareholders of record on friday march 31st were paid a $054 dividend this represents a $216 annualized dividend and a yield of 718 the exdividend date  was thursday march 30th kilroy realtys payout ratio is 10909\\n\\nseveral hedge funds have recently added to or reduced their stakes in the stock nissay asset management corp japan adv lifted its stake in  kilroy realty by 26 in the fourth quarter nissay asset management corp japan adv now owns 11098 shares of the real estate investment trusts stock valued at $429000 after buying an additional 278 shares during the period  ameritas investment partners inc lifted its stake in  kilroy realty by 11 in the first quarter ameritas investment partners inc now owns 28061 shares of the real estate investment trusts stock valued at $2144000 after buying an additional 298 shares during the period  oregon public employees retirement fund lifted its stake in  kilroy realty by 10 in the third quarter oregon public employees retirement fund now owns 30618 shares of the real estate investment trusts stock valued at $1289000 after buying an additional 300 shares during the period  lpl financial llc lifted its stake in  kilroy realty by 76 in the second quarter lpl financial llc now owns 4957 shares of the real estate investment trusts stock valued at $259000 after buying an additional 349 shares during the period  finally mt bank corp lifted its stake in  kilroy realty by 29 in the third quarter mt bank corp now owns 12777 shares of the real estate investment trusts stock valued at $537000 after buying an additional 359 shares during the period institutional investors and hedge funds own  8986 of the companys stock\\n\\nseveral analysts have recently commented on krc shares wells fargo  company decreased their target price on kilroy realty from $4600 to $3600 and set an overweight rating on the stock in a report on thursday march 16th deutsche bank aktiengesellschaft decreased their target price on kilroy realty from $4600 to $4100 in a report on wednesday march 1st jpmorgan chase  co decreased their target price on kilroy realty from $5400 to $4700 and set a neutral rating on the stock in a report on monday january 23rd mizuho decreased their target price on kilroy realty from $5500 to $4800 and set a buy rating on the stock in a report on wednesday january 4th finally jefferies financial group cut kilroy realty from a buy rating to a hold rating and decreased their target price for the stock from $4800 to $3900 in a report on monday january 2nd they noted that the move was a valuation call one investment analyst  has rated the stock with a sell rating nine have assigned  a hold rating and four have given a buy rating to the company according to marketbeatcom the company  has an average rating of hold and an average target price of $4838\\n\\nkilroy realty corp operates as a selfadministered real estate investment trust which engages in the development acquisition and management of office and mixeduse real estate assets it owns develops acquires and manages real estate assets consisting primarily of class a properties in the coastal regions of los angeles orange county san diego county the san francisco bay area and greater seattle\\n\\nreceive news  ratings for kilroy realty daily  enter your email address below to receive a concise daily summary of the latest news and analysts ratings for kilroy realty and related companies with marketbeatcoms free daily email newsletter\"\n        ],\n        \"semantic_type\": \"\",\n        \"description\": \"\"\n      }\n    }\n  ]\n}"
            }
          },
          "metadata": {},
          "execution_count": 9
        }
      ]
    },
    {
      "cell_type": "code",
      "source": [
        "# remove emoji\n",
        "def emoji_removal(text1):\n",
        "  if isinstance(text1,str):\n",
        "    emoji_pattern=re.compile(\"[\"\n",
        "        u\"\\U0001F600-\\U0001F64F\"\n",
        "        u\"\\U0001F300-\\U0001F5FF\"\n",
        "        u\"\\U0001F680-\\U0001F6FF\"\n",
        "        u\"\\U0001F700-\\U0001F77F\"\n",
        "        u\"\\U0001F780-\\U0001F7FF\"\n",
        "        u\"\\U0001F800-\\U0001F8FF\"\n",
        "        u\"\\U0001F900-\\U0001F9FF\"\n",
        "        u\"\\U0001FA00-\\U0001FA6F\"\n",
        "        u\"\\U0001FA70-\\U0001FAFF\"\n",
        "        u\"\\U00012702-\\U000127B0\"\n",
        "        u\"\\U000124C2-\\U0001F251\"\n",
        "        \"]+\", flags=re.UNICODE)\n",
        "    return emoji_pattern.sub(r'',text1)\n",
        "  else:\n",
        "    return text1\n",
        "topic_copy['cleaned_content_file']=topic_copy['cleaned_content_file'].apply(emoji_removal)\n",
        "topic_copy['cleaned_content_file'].iloc[1]"
      ],
      "metadata": {
        "colab": {
          "base_uri": "https://localhost:8080/",
          "height": 140
        },
        "id": "cwtV4kKqfCKd",
        "outputId": "405677a2-f588-4222-c4f0-bc8612f3d4c4"
      },
      "execution_count": 10,
      "outputs": [
        {
          "output_type": "execute_result",
          "data": {
            "text/plain": [
              "'the wabash theater department caps a year of mainstage comedies when the fivetime tonynominated play hand to god opens wednesday for a fournight run in ball theater curtain is at 8 pm and free tickets can be reserved through the box office\\n\\nhand of god is an irreverent raunchy comedy that was nominated for a tony award for best new play in 2015 after an extensive offbroadway run written by playwright robert askins the play tells the story of a quiet awkward teenager jason who after his father dies struggles with all the difficulties of adolescence the cruelty of bullies the discovery of love the shifting relationships with parents and the inevitable questioning of what it all means\\n\\nquoting writer john patrick shanley hand to god director jim cherry says theater is the safe place to do unsafe things adding this play is utterly outrageous and overthetop even gleeful in its willingness to break taboos its a lot like south park in that way but at the same time it deals with sensitive issues and gets at some interesting ideas\\n\\njason attends church in cypress texas where his mom margery leads a christian puppet ministry that attempts to instill biblical values in its teenage participants  nothing close to the actual desires felt by most young people things go dark  very dark  when jasons puppet tyrone takes on a life and foul mouth of its own which quickly rocks jasons faith family and the quiet small town in which they live\\n\\njason is this super sweet adolescent who when his father dies is on the cusp of everything that happens when you become an adult cherry says he becomes devoted to this puppet who becomes a kind of outlet for all of the anger he feels toward everyone what we see in this play is how trauma and grief can make you do things you otherwise wouldnt do\\n\\nwabash theater veteran drew johannes plays jason and his left arm plays tyrone his puppet alter ego the role requires johannes to perform dialogue with his puppet in both gutwrenching and hilarious scenes drew has made big leaps as an actor in every show hes done at wabash and he is really firing on all cylinders in this role cherry says hes become a deft puppeteer in like one month\\n\\nin writing about the offbroadway play for variety marilyn stasio said the playwrights most impressive talent is his ability to make us laugh while juggling those big themes that make life so terrifying death depression alcoholism sexual guilt emotional repression religious hypocrisy and the eternal battle between your good puppet and your bad puppet\\n\\nbrea carlson makes her return to the wabash stage as jasons mom margery who creates the puppet ministry as a way to deal with her grief now living in lafayette carlson is juggling a heavy work schedule with rehearsal yet cherry says she is outstanding ive never seen her any better in a terrifically challenging role\\n\\ngerman language intern sascha sackniess plays the church pastor greg who has creepy eyes for margery drew delor a secondsemester senior makes his wabash theater debut as timmy a slacker bully with problems of his own betsy swift rounds out the small cast as jessica an artsy girl stuck in a small town who has an appreciation for balinese shadow puppetry and quite possibly jason\\n\\nthe puppets are of course designed by andrea bear which cherry describes as unreal nextlevel truly amazing puppets\\n\\nsophomore jacob sitzman and freshman gus sanchez are the stage managers while junior ktren wilson designed and built the costumes\\n\\nadam whittredge designed the set which is principally staged in a classic church basement sunday school room todd handlogten and a cast of wabash students built the set michael abbott is the sound designer and bai rosa is the lighting designer\\n\\ncherry emphasizes that this play is theater for grownups\\n\\ni dont know which i want to do more sing hallelujahor wash tyrones dirty little mouth out with soap wrote jeremy gerard in deadline\\n\\nhand to god\\xa0is\\xa0not\\xa0intended for children and\\xa0contains graphic content and mature themes viewer\\xa0discretion is advised'"
            ],
            "application/vnd.google.colaboratory.intrinsic+json": {
              "type": "string"
            }
          },
          "metadata": {},
          "execution_count": 10
        }
      ]
    },
    {
      "cell_type": "code",
      "source": [
        "# negation handling\n",
        "topic_copy['cleaned_content_file']=topic_copy['cleaned_content_file'].apply(lambda x: re.sub(r'\\b(?:not|no|never)\\s+(\\w+)',r'not_\\1',str(x)))\n",
        "topic_copy['cleaned_content_file'].iloc[1]"
      ],
      "metadata": {
        "id": "eEEqxQ9SfCM_",
        "colab": {
          "base_uri": "https://localhost:8080/",
          "height": 140
        },
        "outputId": "a4ec35e4-077c-471a-cba3-e28d6a3810fa"
      },
      "execution_count": 11,
      "outputs": [
        {
          "output_type": "execute_result",
          "data": {
            "text/plain": [
              "'the wabash theater department caps a year of mainstage comedies when the fivetime tonynominated play hand to god opens wednesday for a fournight run in ball theater curtain is at 8 pm and free tickets can be reserved through the box office\\n\\nhand of god is an irreverent raunchy comedy that was nominated for a tony award for best new play in 2015 after an extensive offbroadway run written by playwright robert askins the play tells the story of a quiet awkward teenager jason who after his father dies struggles with all the difficulties of adolescence the cruelty of bullies the discovery of love the shifting relationships with parents and the inevitable questioning of what it all means\\n\\nquoting writer john patrick shanley hand to god director jim cherry says theater is the safe place to do unsafe things adding this play is utterly outrageous and overthetop even gleeful in its willingness to break taboos its a lot like south park in that way but at the same time it deals with sensitive issues and gets at some interesting ideas\\n\\njason attends church in cypress texas where his mom margery leads a christian puppet ministry that attempts to instill biblical values in its teenage participants  nothing close to the actual desires felt by most young people things go dark  very dark  when jasons puppet tyrone takes on a life and foul mouth of its own which quickly rocks jasons faith family and the quiet small town in which they live\\n\\njason is this super sweet adolescent who when his father dies is on the cusp of everything that happens when you become an adult cherry says he becomes devoted to this puppet who becomes a kind of outlet for all of the anger he feels toward everyone what we see in this play is how trauma and grief can make you do things you otherwise wouldnt do\\n\\nwabash theater veteran drew johannes plays jason and his left arm plays tyrone his puppet alter ego the role requires johannes to perform dialogue with his puppet in both gutwrenching and hilarious scenes drew has made big leaps as an actor in every show hes done at wabash and he is really firing on all cylinders in this role cherry says hes become a deft puppeteer in like one month\\n\\nin writing about the offbroadway play for variety marilyn stasio said the playwrights most impressive talent is his ability to make us laugh while juggling those big themes that make life so terrifying death depression alcoholism sexual guilt emotional repression religious hypocrisy and the eternal battle between your good puppet and your bad puppet\\n\\nbrea carlson makes her return to the wabash stage as jasons mom margery who creates the puppet ministry as a way to deal with her grief now living in lafayette carlson is juggling a heavy work schedule with rehearsal yet cherry says she is outstanding ive not_seen her any better in a terrifically challenging role\\n\\ngerman language intern sascha sackniess plays the church pastor greg who has creepy eyes for margery drew delor a secondsemester senior makes his wabash theater debut as timmy a slacker bully with problems of his own betsy swift rounds out the small cast as jessica an artsy girl stuck in a small town who has an appreciation for balinese shadow puppetry and quite possibly jason\\n\\nthe puppets are of course designed by andrea bear which cherry describes as unreal nextlevel truly amazing puppets\\n\\nsophomore jacob sitzman and freshman gus sanchez are the stage managers while junior ktren wilson designed and built the costumes\\n\\nadam whittredge designed the set which is principally staged in a classic church basement sunday school room todd handlogten and a cast of wabash students built the set michael abbott is the sound designer and bai rosa is the lighting designer\\n\\ncherry emphasizes that this play is theater for grownups\\n\\ni dont know which i want to do more sing hallelujahor wash tyrones dirty little mouth out with soap wrote jeremy gerard in deadline\\n\\nhand to god\\xa0is\\xa0not_intended for children and\\xa0contains graphic content and mature themes viewer\\xa0discretion is advised'"
            ],
            "application/vnd.google.colaboratory.intrinsic+json": {
              "type": "string"
            }
          },
          "metadata": {},
          "execution_count": 11
        }
      ]
    },
    {
      "cell_type": "code",
      "source": [
        "# slang handling\n",
        "slang_dict={\n",
        "    'noo':'no',\n",
        "    'bf':'boy friend',\n",
        "    'errr':'error',\n",
        "    'PRW': 'Parents Are Watching',\n",
        "    'QPSA': 'Que Pasa?',\n",
        "    'ROFL': 'Rolling On The Floor Laughing',\n",
        "    'ROFLOL': 'Rolling On The Floor Laughing Out Loud',\n",
        "    'ROTFLMAO': 'Rolling On The Floor Laughing My A.. Off',\n",
        "    'SK8': 'Skate',\n",
        "    'STATS': 'Your sex and age',\n",
        "    'ASL': 'Age, Sex, Location',\n",
        "    'THX': 'Thank You',\n",
        "    'TTFN': 'Ta-Ta For Now!',\n",
        "    'TTYL': 'Talk To You Later',\n",
        "    'U': 'You',\n",
        "    'U2': 'You Too',\n",
        "    'U4E': 'Yours For Ever',\n",
        "    'WB': 'Welcome Back',\n",
        "    'WTF': 'What The F...',\n",
        "    'FREQ':'Frequency',\n",
        "    'gf':'girl friend',\n",
        "    'jr': 'junior',\n",
        "    'AFAIK':'As Far As I Know',\n",
        "    'ICQ': 'I Seek you (also a chat program)',\n",
        "    'ILU': 'ILU: I Love You',\n",
        "    'IMHO': 'In My Honest/Humble Opinion',\n",
        "    'IMO': 'In My Opinion',\n",
        "    'IOW': 'In Other Words',\n",
        "    'IRL': 'In Real Life',\n",
        "    'KISS': 'Keep It Simple, Stupid',\n",
        "    'LDR': 'Long Distance Relationship',\n",
        "    'LMAO': 'Laugh My A.. Off',\n",
        "    'LOL': 'Laughing Out Loud',\n",
        "    'LTNS': 'Long Time No See',\n",
        "    'L8R': 'Later',\n",
        "    'MTE': 'My Thoughts Exactly',\n",
        "    'M8': 'Mate',\n",
        "    'NRN': 'No Reply Necessary',\n",
        "    'OIC': 'Oh I See',\n",
        "    'PITA': 'Pain In The A..',\n",
        "    'PRT': 'Party',\n",
        "    'WTG': 'Way To Go!',\n",
        "    'WUF': 'Where Are You From?',\n",
        "    'W8': 'Wait...',\n",
        "    '7K': 'Sick:-D Laugher',\n",
        "    'TFW': 'That feeling when. TFW internet slang often goes in a caption to an image.',\n",
        "    'MFW': 'My face when',\n",
        "    'MRW': 'My reaction when',\n",
        "    'IFYP': 'I feel your pain',\n",
        "    'TNTL': 'Trying not to laugh',\n",
        "    'JK': 'Just kidding',\n",
        "    'IDC': 'I don’t care',\n",
        "    'ILY': 'I love you',\n",
        "    'IMU': 'I miss you',\n",
        "    'ADIH': 'Another day in hell',\n",
        "    'ZZZ': 'Sleeping, bored, tired',\n",
        "    'WYWH': 'Wish you were here',\n",
        "    'TIME': 'Tears in my eyes',\n",
        "    'BAE': 'Before anyone else',\n",
        "    'FIMH': 'Forever in my heart',\n",
        "    'BSAAW': 'Big smile and a wink',\n",
        "    'BWL': 'Bursting with laughter',\n",
        "    'LMAO': 'Laughing my a** off',\n",
        "    'BFF': 'Best friends forever',\n",
        "    'CSL': 'Can’t stop laughing',\n",
        "    'CU': 'see you',\n",
        "    'ATM':'At The Moment',\n",
        "    'A3':'Anytime, Anywhere, Anyplace',\n",
        "    'BAK':'Back At Keyboard',\n",
        "    'BRT': 'Be Right There',\n",
        "    'BTW': 'By The Way',\n",
        "    'B4': 'Before',\n",
        "    'B4N': 'Bye For Now',\n",
        "    'CU': 'See You',\n",
        "    'CUL8R': 'See You Later',\n",
        "    \"AFK\":'Away From Keyboard',\n",
        "    'ASAP':'As Soon As Possible',\n",
        "    'ATK':'At The Keyboard',\n",
        "    'CYA': 'See You',\n",
        "    'FAQ': 'Frequently Asked Questions',\n",
        "    'FC': 'Fingers Crossed',\n",
        "    'FWIW': 'For What It\\'s Worth',\n",
        "    'FYI': 'For Your Information',\n",
        "    'GAL': 'Get A Life',\n",
        "    'GG': 'Good Game',\n",
        "    'GN': 'Good Night',\n",
        "    'GMTA': 'Great Minds Think Alike',\n",
        "    'GR8': 'Great!',\n",
        "    'G9': 'Genius',\n",
        "    'IC': 'I See',\n",
        "    'BBL':'Be Back Later',\n",
        "    'BBS': 'Be Back Soon',\n",
        "    'BFN': 'Bye For Now',\n",
        "    'B4N': 'Bye For Now',\n",
        "    'BRB': 'Be Right Back'\n",
        "}\n",
        "topic_copy['cleaned_content_file']=topic_copy['cleaned_content_file'].apply(lambda x: ' '.join(slang_dict.get(word, word) for word in x.split()))\n",
        "topic_copy['cleaned_content_file'].iloc[1]"
      ],
      "metadata": {
        "id": "eU5HcZQHfCPi",
        "colab": {
          "base_uri": "https://localhost:8080/",
          "height": 140
        },
        "outputId": "92afb742-6876-46c5-fcc7-54b16bfaf34f"
      },
      "execution_count": 12,
      "outputs": [
        {
          "output_type": "execute_result",
          "data": {
            "text/plain": [
              "'the wabash theater department caps a year of mainstage comedies when the fivetime tonynominated play hand to god opens wednesday for a fournight run in ball theater curtain is at 8 pm and free tickets can be reserved through the box office hand of god is an irreverent raunchy comedy that was nominated for a tony award for best new play in 2015 after an extensive offbroadway run written by playwright robert askins the play tells the story of a quiet awkward teenager jason who after his father dies struggles with all the difficulties of adolescence the cruelty of bullies the discovery of love the shifting relationships with parents and the inevitable questioning of what it all means quoting writer john patrick shanley hand to god director jim cherry says theater is the safe place to do unsafe things adding this play is utterly outrageous and overthetop even gleeful in its willingness to break taboos its a lot like south park in that way but at the same time it deals with sensitive issues and gets at some interesting ideas jason attends church in cypress texas where his mom margery leads a christian puppet ministry that attempts to instill biblical values in its teenage participants nothing close to the actual desires felt by most young people things go dark very dark when jasons puppet tyrone takes on a life and foul mouth of its own which quickly rocks jasons faith family and the quiet small town in which they live jason is this super sweet adolescent who when his father dies is on the cusp of everything that happens when you become an adult cherry says he becomes devoted to this puppet who becomes a kind of outlet for all of the anger he feels toward everyone what we see in this play is how trauma and grief can make you do things you otherwise wouldnt do wabash theater veteran drew johannes plays jason and his left arm plays tyrone his puppet alter ego the role requires johannes to perform dialogue with his puppet in both gutwrenching and hilarious scenes drew has made big leaps as an actor in every show hes done at wabash and he is really firing on all cylinders in this role cherry says hes become a deft puppeteer in like one month in writing about the offbroadway play for variety marilyn stasio said the playwrights most impressive talent is his ability to make us laugh while juggling those big themes that make life so terrifying death depression alcoholism sexual guilt emotional repression religious hypocrisy and the eternal battle between your good puppet and your bad puppet brea carlson makes her return to the wabash stage as jasons mom margery who creates the puppet ministry as a way to deal with her grief now living in lafayette carlson is juggling a heavy work schedule with rehearsal yet cherry says she is outstanding ive not_seen her any better in a terrifically challenging role german language intern sascha sackniess plays the church pastor greg who has creepy eyes for margery drew delor a secondsemester senior makes his wabash theater debut as timmy a slacker bully with problems of his own betsy swift rounds out the small cast as jessica an artsy girl stuck in a small town who has an appreciation for balinese shadow puppetry and quite possibly jason the puppets are of course designed by andrea bear which cherry describes as unreal nextlevel truly amazing puppets sophomore jacob sitzman and freshman gus sanchez are the stage managers while junior ktren wilson designed and built the costumes adam whittredge designed the set which is principally staged in a classic church basement sunday school room todd handlogten and a cast of wabash students built the set michael abbott is the sound designer and bai rosa is the lighting designer cherry emphasizes that this play is theater for grownups i dont know which i want to do more sing hallelujahor wash tyrones dirty little mouth out with soap wrote jeremy gerard in deadline hand to god is not_intended for children and contains graphic content and mature themes viewer discretion is advised'"
            ],
            "application/vnd.google.colaboratory.intrinsic+json": {
              "type": "string"
            }
          },
          "metadata": {},
          "execution_count": 12
        }
      ]
    },
    {
      "cell_type": "code",
      "source": [
        "# idioms and abbreviations handling\n",
        "idioms_dict={'omg':'oh my god','rofl':'rolling on the floor laughing'}\n",
        "topic_copy['cleaned_content_file']=topic_copy['cleaned_content_file'].apply(lambda x: ' '.join(idioms_dict.get(word,word) for word in x.split()))\n",
        "topic_copy['cleaned_content_file'].iloc[1]"
      ],
      "metadata": {
        "id": "3CDUaYQpfCSD",
        "colab": {
          "base_uri": "https://localhost:8080/",
          "height": 140
        },
        "outputId": "6b7a772b-363c-4d8b-f6d0-3174eee1067d"
      },
      "execution_count": 13,
      "outputs": [
        {
          "output_type": "execute_result",
          "data": {
            "text/plain": [
              "'the wabash theater department caps a year of mainstage comedies when the fivetime tonynominated play hand to god opens wednesday for a fournight run in ball theater curtain is at 8 pm and free tickets can be reserved through the box office hand of god is an irreverent raunchy comedy that was nominated for a tony award for best new play in 2015 after an extensive offbroadway run written by playwright robert askins the play tells the story of a quiet awkward teenager jason who after his father dies struggles with all the difficulties of adolescence the cruelty of bullies the discovery of love the shifting relationships with parents and the inevitable questioning of what it all means quoting writer john patrick shanley hand to god director jim cherry says theater is the safe place to do unsafe things adding this play is utterly outrageous and overthetop even gleeful in its willingness to break taboos its a lot like south park in that way but at the same time it deals with sensitive issues and gets at some interesting ideas jason attends church in cypress texas where his mom margery leads a christian puppet ministry that attempts to instill biblical values in its teenage participants nothing close to the actual desires felt by most young people things go dark very dark when jasons puppet tyrone takes on a life and foul mouth of its own which quickly rocks jasons faith family and the quiet small town in which they live jason is this super sweet adolescent who when his father dies is on the cusp of everything that happens when you become an adult cherry says he becomes devoted to this puppet who becomes a kind of outlet for all of the anger he feels toward everyone what we see in this play is how trauma and grief can make you do things you otherwise wouldnt do wabash theater veteran drew johannes plays jason and his left arm plays tyrone his puppet alter ego the role requires johannes to perform dialogue with his puppet in both gutwrenching and hilarious scenes drew has made big leaps as an actor in every show hes done at wabash and he is really firing on all cylinders in this role cherry says hes become a deft puppeteer in like one month in writing about the offbroadway play for variety marilyn stasio said the playwrights most impressive talent is his ability to make us laugh while juggling those big themes that make life so terrifying death depression alcoholism sexual guilt emotional repression religious hypocrisy and the eternal battle between your good puppet and your bad puppet brea carlson makes her return to the wabash stage as jasons mom margery who creates the puppet ministry as a way to deal with her grief now living in lafayette carlson is juggling a heavy work schedule with rehearsal yet cherry says she is outstanding ive not_seen her any better in a terrifically challenging role german language intern sascha sackniess plays the church pastor greg who has creepy eyes for margery drew delor a secondsemester senior makes his wabash theater debut as timmy a slacker bully with problems of his own betsy swift rounds out the small cast as jessica an artsy girl stuck in a small town who has an appreciation for balinese shadow puppetry and quite possibly jason the puppets are of course designed by andrea bear which cherry describes as unreal nextlevel truly amazing puppets sophomore jacob sitzman and freshman gus sanchez are the stage managers while junior ktren wilson designed and built the costumes adam whittredge designed the set which is principally staged in a classic church basement sunday school room todd handlogten and a cast of wabash students built the set michael abbott is the sound designer and bai rosa is the lighting designer cherry emphasizes that this play is theater for grownups i dont know which i want to do more sing hallelujahor wash tyrones dirty little mouth out with soap wrote jeremy gerard in deadline hand to god is not_intended for children and contains graphic content and mature themes viewer discretion is advised'"
            ],
            "application/vnd.google.colaboratory.intrinsic+json": {
              "type": "string"
            }
          },
          "metadata": {},
          "execution_count": 13
        }
      ]
    },
    {
      "cell_type": "code",
      "source": [
        "# remove stop words\n",
        "stop_word=set(stopwords.words('english'))\n",
        "topic_copy['cleaned_content_file']=topic_copy['cleaned_content_file'].apply(lambda x: ' '.join([word for word in x.split() if word.lower() not in stop_word]))\n",
        "topic_copy['cleaned_content_file'].iloc[1]"
      ],
      "metadata": {
        "id": "wgEy-jeOfCUM",
        "colab": {
          "base_uri": "https://localhost:8080/",
          "height": 140
        },
        "outputId": "dea3227c-c0d3-44a3-df9b-07a4b5744018"
      },
      "execution_count": 14,
      "outputs": [
        {
          "output_type": "execute_result",
          "data": {
            "text/plain": [
              "'wabash theater department caps year mainstage comedies fivetime tonynominated play hand god opens wednesday fournight run ball theater curtain 8 pm free tickets reserved box office hand god irreverent raunchy comedy nominated tony award best new play 2015 extensive offbroadway run written playwright robert askins play tells story quiet awkward teenager jason father dies struggles difficulties adolescence cruelty bullies discovery love shifting relationships parents inevitable questioning means quoting writer john patrick shanley hand god director jim cherry says theater safe place unsafe things adding play utterly outrageous overthetop even gleeful willingness break taboos lot like south park way time deals sensitive issues gets interesting ideas jason attends church cypress texas mom margery leads christian puppet ministry attempts instill biblical values teenage participants nothing close actual desires felt young people things go dark dark jasons puppet tyrone takes life foul mouth quickly rocks jasons faith family quiet small town live jason super sweet adolescent father dies cusp everything happens become adult cherry says becomes devoted puppet becomes kind outlet anger feels toward everyone see play trauma grief make things otherwise wouldnt wabash theater veteran drew johannes plays jason left arm plays tyrone puppet alter ego role requires johannes perform dialogue puppet gutwrenching hilarious scenes drew made big leaps actor every show hes done wabash really firing cylinders role cherry says hes become deft puppeteer like one month writing offbroadway play variety marilyn stasio said playwrights impressive talent ability make us laugh juggling big themes make life terrifying death depression alcoholism sexual guilt emotional repression religious hypocrisy eternal battle good puppet bad puppet brea carlson makes return wabash stage jasons mom margery creates puppet ministry way deal grief living lafayette carlson juggling heavy work schedule rehearsal yet cherry says outstanding ive not_seen better terrifically challenging role german language intern sascha sackniess plays church pastor greg creepy eyes margery drew delor secondsemester senior makes wabash theater debut timmy slacker bully problems betsy swift rounds small cast jessica artsy girl stuck small town appreciation balinese shadow puppetry quite possibly jason puppets course designed andrea bear cherry describes unreal nextlevel truly amazing puppets sophomore jacob sitzman freshman gus sanchez stage managers junior ktren wilson designed built costumes adam whittredge designed set principally staged classic church basement sunday school room todd handlogten cast wabash students built set michael abbott sound designer bai rosa lighting designer cherry emphasizes play theater grownups dont know want sing hallelujahor wash tyrones dirty little mouth soap wrote jeremy gerard deadline hand god not_intended children contains graphic content mature themes viewer discretion advised'"
            ],
            "application/vnd.google.colaboratory.intrinsic+json": {
              "type": "string"
            }
          },
          "metadata": {},
          "execution_count": 14
        }
      ]
    },
    {
      "cell_type": "code",
      "source": [
        "# tokenize sentence\n",
        "tokenizer=Tokenizer()\n",
        "tokenizer.fit_on_texts(topic_copy['cleaned_content_file'])\n",
        "X=tokenizer.texts_to_sequences(topic_copy['cleaned_content_file'])\n",
        "#topic_copy['Tokens']=topic_copy['cleaned_content_file'].apply(lambda x: word_tokenize(str(x)))\n",
        "#topic_copy.head(2)"
      ],
      "metadata": {
        "id": "dC3SmeknfCWh"
      },
      "execution_count": 15,
      "outputs": []
    },
    {
      "cell_type": "code",
      "source": [
        "# add padding\n",
        "X=pad_sequences(X)"
      ],
      "metadata": {
        "id": "vU_OS3bJWJ0l"
      },
      "execution_count": 16,
      "outputs": []
    },
    {
      "cell_type": "markdown",
      "source": [
        "## **Split Data and One Hot Encoding**"
      ],
      "metadata": {
        "id": "YlssyxPcSVkb"
      }
    },
    {
      "cell_type": "code",
      "source": [
        "#label encoding\n",
        "#from sklearn.preprocessing import LabelEncoder\n",
        "#label_encoder=LabelEncoder()\n",
        "#y=label_encoder.fit_transform(topic_copy['topic'])"
      ],
      "metadata": {
        "id": "OjmGu-1WS0Jd"
      },
      "execution_count": null,
      "outputs": []
    },
    {
      "cell_type": "code",
      "source": [
        "#y=y.tolist()"
      ],
      "metadata": {
        "id": "_tYfFH1BS0Rt"
      },
      "execution_count": null,
      "outputs": []
    },
    {
      "cell_type": "code",
      "source": [
        "y=topic_copy['topic']\n",
        "y=pd.get_dummies(y) # one-hot encoding"
      ],
      "metadata": {
        "id": "xOsRDC30WZFR"
      },
      "execution_count": 17,
      "outputs": []
    },
    {
      "cell_type": "code",
      "source": [
        "#split into train test result\n",
        "X_train,X_test,y_train,y_test=train_test_split(X,y,test_size=0.2,random_state=42)"
      ],
      "metadata": {
        "id": "S3h8eeyYY-Re"
      },
      "execution_count": 18,
      "outputs": []
    },
    {
      "cell_type": "markdown",
      "source": [
        "## **Load Glove Embeddings**"
      ],
      "metadata": {
        "id": "Tq9porwbWwy9"
      }
    },
    {
      "cell_type": "code",
      "source": [
        "embedding_index={}\n",
        "with open('/content/drive/MyDrive/glove.6B/glove.6B.100d.txt',encoding='utf-8') as f:\n",
        "  for line in f:\n",
        "    word, coefs=line.split(maxsplit=1)\n",
        "    coefs=np.fromstring(coefs,'f',sep=' ')\n",
        "    embedding_index[word]=coefs"
      ],
      "metadata": {
        "id": "klrD5_GhWjua"
      },
      "execution_count": 19,
      "outputs": []
    },
    {
      "cell_type": "code",
      "source": [
        "max_num_words=30000\n",
        "embedding_dim=50\n",
        "max_sequence_length=3125"
      ],
      "metadata": {
        "id": "iQLN-Nhkfxk4"
      },
      "execution_count": 20,
      "outputs": []
    },
    {
      "cell_type": "code",
      "source": [
        "# prepare embedding matrix\n",
        "word_index=tokenizer.word_index\n",
        "num_words=min(len(word_index)+1,max_num_words)\n",
        "embedding_matrix=np.zeros((num_words,embedding_dim))\n",
        "\n",
        "for word, i in word_index.items():\n",
        "  if i>=max_num_words:\n",
        "    continue\n",
        "  embedding_vector=embedding_index.get(word)\n",
        "  if embedding_vector is not None:\n",
        "    embedding_vector=np.resize(embedding_vector,(embedding_dim,))\n",
        "    embedding_matrix[i]=embedding_vector"
      ],
      "metadata": {
        "id": "SMpUTjGAXs28"
      },
      "execution_count": 21,
      "outputs": []
    },
    {
      "cell_type": "code",
      "source": [
        "# define embedding layer\n",
        "embedding_layer=Embedding(num_words,embedding_dim,embeddings_initializer=Constant(embedding_matrix),input_length=max_sequence_length,trainable=False)\n",
        "sequence_input=Input(shape=(max_sequence_length,),dtype='int32')\n",
        "embedded_sequence=embedding_layer(sequence_input)"
      ],
      "metadata": {
        "id": "ogsZ-0XzZTCc"
      },
      "execution_count": 22,
      "outputs": []
    },
    {
      "cell_type": "markdown",
      "source": [
        "## **Build Transformer Model and Train**"
      ],
      "metadata": {
        "id": "T5nwl0w4ZMGV"
      }
    },
    {
      "cell_type": "code",
      "source": [
        "num_heads=2\n",
        "transformer_unit=64\n",
        "dropout_rate=0.2"
      ],
      "metadata": {
        "id": "lrcaPGmKS0aG"
      },
      "execution_count": 23,
      "outputs": []
    },
    {
      "cell_type": "code",
      "source": [
        "# transformer layer\n",
        "attention_output=embedded_sequence\n",
        "for _ in range(num_heads):\n",
        "  attention_output=Attention(use_scale=True)([attention_output,attention_output])\n",
        "attention_output=LayerNormalization()(attention_output)\n",
        "attention_output=Dropout(dropout_rate)(attention_output)"
      ],
      "metadata": {
        "id": "haxxSaLfS0i4"
      },
      "execution_count": 24,
      "outputs": []
    },
    {
      "cell_type": "code",
      "source": [
        "# dense layer\n",
        "transformer_output=Flatten()(attention_output)\n",
        "transformer_output=Dense(transformer_unit,activation='relu')(transformer_output)\n",
        "transformer_output=Dropout(dropout_rate)(transformer_output)"
      ],
      "metadata": {
        "id": "5XTHk77Kb2FZ"
      },
      "execution_count": 25,
      "outputs": []
    },
    {
      "cell_type": "code",
      "source": [
        "# output layer\n",
        "output=Dense(9,activation='softmax')(transformer_output)"
      ],
      "metadata": {
        "id": "WNAWPJafcSjT"
      },
      "execution_count": 26,
      "outputs": []
    },
    {
      "cell_type": "code",
      "source": [
        "# compile model\n",
        "model=Model(sequence_input,output)\n",
        "model.compile(loss='categorical_crossentropy',optimizer='adam',metrics=['accuracy'])"
      ],
      "metadata": {
        "id": "9AzVCm-FchWI"
      },
      "execution_count": 27,
      "outputs": []
    },
    {
      "cell_type": "code",
      "source": [
        "model.summary()"
      ],
      "metadata": {
        "colab": {
          "base_uri": "https://localhost:8080/"
        },
        "id": "qfjlZ5PJj5ce",
        "outputId": "5b185fe4-6091-4237-be50-b5ed85bf3061"
      },
      "execution_count": 28,
      "outputs": [
        {
          "output_type": "stream",
          "name": "stdout",
          "text": [
            "Model: \"model\"\n",
            "__________________________________________________________________________________________________\n",
            " Layer (type)                Output Shape                 Param #   Connected to                  \n",
            "==================================================================================================\n",
            " input_1 (InputLayer)        [(None, 3125)]               0         []                            \n",
            "                                                                                                  \n",
            " embedding (Embedding)       (None, 3125, 50)             1029400   ['input_1[0][0]']             \n",
            "                                                                                                  \n",
            " attention (Attention)       (None, 3125, 50)             1         ['embedding[0][0]',           \n",
            "                                                                     'embedding[0][0]']           \n",
            "                                                                                                  \n",
            " attention_1 (Attention)     (None, 3125, 50)             1         ['attention[0][0]',           \n",
            "                                                                     'attention[0][0]']           \n",
            "                                                                                                  \n",
            " layer_normalization (Layer  (None, 3125, 50)             100       ['attention_1[0][0]']         \n",
            " Normalization)                                                                                   \n",
            "                                                                                                  \n",
            " dropout (Dropout)           (None, 3125, 50)             0         ['layer_normalization[0][0]'] \n",
            "                                                                                                  \n",
            " flatten (Flatten)           (None, 156250)               0         ['dropout[0][0]']             \n",
            "                                                                                                  \n",
            " dense (Dense)               (None, 64)                   1000006   ['flatten[0][0]']             \n",
            "                                                          4                                       \n",
            "                                                                                                  \n",
            " dropout_1 (Dropout)         (None, 64)                   0         ['dense[0][0]']               \n",
            "                                                                                                  \n",
            " dense_1 (Dense)             (None, 9)                    585       ['dropout_1[0][0]']           \n",
            "                                                                                                  \n",
            "==================================================================================================\n",
            "Total params: 11030151 (42.08 MB)\n",
            "Trainable params: 10000751 (38.15 MB)\n",
            "Non-trainable params: 1029400 (3.93 MB)\n",
            "__________________________________________________________________________________________________\n"
          ]
        }
      ]
    },
    {
      "cell_type": "code",
      "source": [
        "# train model\n",
        "model.fit(X_train,y_train,batch_size=32,epochs=12,validation_data=(X_test,y_test))"
      ],
      "metadata": {
        "colab": {
          "base_uri": "https://localhost:8080/"
        },
        "id": "kcbRSbtic57_",
        "outputId": "fd959974-6680-4c0a-f62c-8bb239a987ef"
      },
      "execution_count": 31,
      "outputs": [
        {
          "output_type": "stream",
          "name": "stdout",
          "text": [
            "Epoch 1/12\n",
            "10/10 [==============================] - 3s 327ms/step - loss: 1.6478 - accuracy: 0.4218 - val_loss: 2.8341 - val_accuracy: 0.2973\n",
            "Epoch 2/12\n",
            "10/10 [==============================] - 3s 325ms/step - loss: 1.4796 - accuracy: 0.4898 - val_loss: 3.3048 - val_accuracy: 0.4054\n",
            "Epoch 3/12\n",
            "10/10 [==============================] - 3s 327ms/step - loss: 1.4686 - accuracy: 0.4966 - val_loss: 2.8806 - val_accuracy: 0.3378\n",
            "Epoch 4/12\n",
            "10/10 [==============================] - 3s 322ms/step - loss: 1.5337 - accuracy: 0.4422 - val_loss: 3.1210 - val_accuracy: 0.3784\n",
            "Epoch 5/12\n",
            "10/10 [==============================] - 3s 326ms/step - loss: 1.7345 - accuracy: 0.4082 - val_loss: 2.4307 - val_accuracy: 0.2838\n",
            "Epoch 6/12\n",
            "10/10 [==============================] - 3s 323ms/step - loss: 1.5678 - accuracy: 0.4218 - val_loss: 2.2661 - val_accuracy: 0.3108\n",
            "Epoch 7/12\n",
            "10/10 [==============================] - 3s 325ms/step - loss: 1.5022 - accuracy: 0.4796 - val_loss: 2.5344 - val_accuracy: 0.3243\n",
            "Epoch 8/12\n",
            "10/10 [==============================] - 3s 323ms/step - loss: 1.5451 - accuracy: 0.4082 - val_loss: 3.0176 - val_accuracy: 0.3243\n",
            "Epoch 9/12\n",
            "10/10 [==============================] - 3s 324ms/step - loss: 1.4169 - accuracy: 0.4728 - val_loss: 3.4318 - val_accuracy: 0.3649\n",
            "Epoch 10/12\n",
            "10/10 [==============================] - 3s 327ms/step - loss: 1.5336 - accuracy: 0.4898 - val_loss: 3.5364 - val_accuracy: 0.4054\n",
            "Epoch 11/12\n",
            "10/10 [==============================] - 3s 326ms/step - loss: 1.3152 - accuracy: 0.5374 - val_loss: 2.8750 - val_accuracy: 0.4054\n",
            "Epoch 12/12\n",
            "10/10 [==============================] - 3s 328ms/step - loss: 1.3567 - accuracy: 0.5408 - val_loss: 3.2350 - val_accuracy: 0.3919\n"
          ]
        },
        {
          "output_type": "execute_result",
          "data": {
            "text/plain": [
              "<keras.src.callbacks.History at 0x79b6a8708ee0>"
            ]
          },
          "metadata": {},
          "execution_count": 31
        }
      ]
    },
    {
      "cell_type": "code",
      "source": [
        "# save model\n",
        "model.save(\"/content/drive/MyDrive/model.h5\")"
      ],
      "metadata": {
        "id": "ZQzRJfDRisNW"
      },
      "execution_count": 33,
      "outputs": []
    },
    {
      "cell_type": "markdown",
      "source": [
        "## **Show Below Metrics**\n",
        "\n",
        "\n",
        "*   CONFUSION MATRIX\n",
        "*   CLASSIFICATION REPORT\n",
        "*   AUC SCORE\n",
        "*   ROC Curve"
      ],
      "metadata": {
        "id": "MKps95yJ7nYh"
      }
    },
    {
      "cell_type": "code",
      "source": [
        "#print confusion matrix and classification report\n",
        "from sklearn.metrics import confusion_matrix,classification_report\n",
        "predict_label=tf.argmax(predictions,axis=1)\n",
        "y_test_int=np.argmax(y_test,axis=1)\n",
        "predict_label_np=predict_label.numpy()\n",
        "print(\"Confusion Matrix:\")\n",
        "print(confusion_matrix(y_test_int,predict_label_np))\n",
        "print(\"  \")\n",
        "print(\"Classification Report:\")\n",
        "print(classification_report(y_test_int,predict_label_np))"
      ],
      "metadata": {
        "colab": {
          "base_uri": "https://localhost:8080/"
        },
        "id": "GAsoa7Rr7r6r",
        "outputId": "46bc9f58-6376-4da9-e99c-949b4aa3d5d9"
      },
      "execution_count": 37,
      "outputs": [
        {
          "output_type": "stream",
          "name": "stdout",
          "text": [
            "Confusion Matrix:\n",
            "[[6 4 0 0 1 0 0 0 0]\n",
            " [0 3 0 0 1 0 2 0 1]\n",
            " [1 4 0 0 0 0 1 0 2]\n",
            " [1 1 0 0 3 0 0 0 0]\n",
            " [0 1 1 0 6 0 0 0 0]\n",
            " [0 1 0 0 0 9 0 0 0]\n",
            " [0 4 0 0 1 0 5 0 0]\n",
            " [0 4 0 0 1 0 0 0 0]\n",
            " [1 6 0 0 2 0 1 0 0]]\n",
            "  \n",
            "Classification Report:\n",
            "              precision    recall  f1-score   support\n",
            "\n",
            "           0       0.67      0.55      0.60        11\n",
            "           1       0.11      0.43      0.17         7\n",
            "           2       0.00      0.00      0.00         8\n",
            "           3       0.00      0.00      0.00         5\n",
            "           4       0.40      0.75      0.52         8\n",
            "           5       1.00      0.90      0.95        10\n",
            "           6       0.56      0.50      0.53        10\n",
            "           7       0.00      0.00      0.00         5\n",
            "           8       0.00      0.00      0.00        10\n",
            "\n",
            "    accuracy                           0.39        74\n",
            "   macro avg       0.30      0.35      0.31        74\n",
            "weighted avg       0.36      0.39      0.36        74\n",
            "\n"
          ]
        }
      ]
    },
    {
      "cell_type": "code",
      "source": [
        "# calculate AUC score and Plot ROC curve\n",
        "from sklearn.metrics import roc_curve, roc_auc_score\n",
        "import matplotlib.pyplot as plt\n",
        "from keras.utils import to_categorical\n",
        "from sklearn.preprocessing import label_binarize\n",
        "\n",
        "auc_score=roc_auc_score(y_test,predictions,multi_class='ovr')\n",
        "print(\"AUC_Score:\", auc_score)\n",
        "\n",
        "plt.figure(figsize=(8,6))\n",
        "for i in range(5):\n",
        "  y_test_bin=label_binarize(y_test,classes=[0,1,2,3,4,5,6,7,8])\n",
        "  fpr,tpr,thresolds=roc_curve(y_test_bin[:, i],predictions[:, i])\n",
        "  plt.plot(fpr,tpr,label=f\"Class {i}\")\n",
        "\n",
        "plt.plot([0,1],[0,1],'k--')\n",
        "plt.xlabel('False Positive Rate')\n",
        "plt.ylabel('True Positive Rate')\n",
        "plt.title('ROC CURVE')\n",
        "plt.show()"
      ],
      "metadata": {
        "colab": {
          "base_uri": "https://localhost:8080/",
          "height": 581
        },
        "id": "zjFC0ToI8eo4",
        "outputId": "30e7b6bf-c505-466c-cc59-e2ceaa24bc36"
      },
      "execution_count": 38,
      "outputs": [
        {
          "output_type": "stream",
          "name": "stdout",
          "text": [
            "AUC_Score: 0.7480653797861916\n"
          ]
        },
        {
          "output_type": "display_data",
          "data": {
            "text/plain": [
              "<Figure size 800x600 with 1 Axes>"
            ],
            "image/png": "[encoded data removed]"
          },
          "metadata": {}
        }
      ]
    },
    {
      "cell_type": "markdown",
      "source": [
        "## **Evaluate Model and Predict**"
      ],
      "metadata": {
        "id": "ZxgLhSZcdULe"
      }
    },
    {
      "cell_type": "code",
      "source": [
        "loss, accuracy=model.evaluate(X_test,y_test)\n",
        "print(\"Val Accuracy:\", accuracy)"
      ],
      "metadata": {
        "id": "ed-HGDdydXVJ",
        "colab": {
          "base_uri": "https://localhost:8080/"
        },
        "outputId": "17b83faa-6ddb-4fc7-9cca-9c0fb35d3c3a"
      },
      "execution_count": 35,
      "outputs": [
        {
          "output_type": "stream",
          "name": "stdout",
          "text": [
            "3/3 [==============================] - 0s 93ms/step - loss: 3.2350 - accuracy: 0.3919\n",
            "Val Accuracy: 0.3918918967247009\n"
          ]
        }
      ]
    },
    {
      "cell_type": "code",
      "source": [
        "predictions=model.predict(X_test)"
      ],
      "metadata": {
        "id": "2ysHK74HdXa1",
        "colab": {
          "base_uri": "https://localhost:8080/"
        },
        "outputId": "96b92bfe-1634-44a9-9ca3-4f1ad6e91cf3"
      },
      "execution_count": 36,
      "outputs": [
        {
          "output_type": "stream",
          "name": "stdout",
          "text": [
            "3/3 [==============================] - 1s 90ms/step\n"
          ]
        }
      ]
    },
    {
      "cell_type": "code",
      "source": [
        "def topic_mapping(predictions):\n",
        "    \"\"\"\n",
        "    Map model predictions to topic labels.\n",
        "\n",
        "    Args:\n",
        "    - predictions: Predicted probabilities for each topic.\n",
        "\n",
        "    Returns:\n",
        "    - topic_labels: Predicted topic labels.\n",
        "    \"\"\"\n",
        "    topic_labels = []\n",
        "    # Assuming each prediction is a probability distribution over topics\n",
        "    for prediction in predictions:\n",
        "        # Get the index of the topic with the highest probability\n",
        "        predicted_topic_index = prediction.argmax()\n",
        "        # Map the index to the corresponding topic label\n",
        "        topics = ['business', 'unknown', 'technology', 'politics', 'sports topic', 'entertainment', 'travel', 'health', 'fashion']\n",
        "        predicted_topic_label = topics[predicted_topic_index]\n",
        "        topic_labels.append(predicted_topic_label)\n",
        "    return topic_labels"
      ],
      "metadata": {
        "id": "PwcRM-291D6p"
      },
      "execution_count": 48,
      "outputs": []
    },
    {
      "cell_type": "code",
      "source": [
        "# Convert predictions to topic labels\n",
        "predicted_topics = [topic_mapping(prediction) for prediction in predictions]"
      ],
      "metadata": {
        "id": "LRxItaEX_hMs"
      },
      "execution_count": 49,
      "outputs": []
    },
    {
      "cell_type": "code",
      "source": [
        "# Update the DataFrame with predicted topics\n",
        "#topic_copy['predicted_topic'] = predicted_topics"
      ],
      "metadata": {
        "id": "6HCHInF2_hxR"
      },
      "execution_count": 56,
      "outputs": []
    },
    {
      "cell_type": "markdown",
      "source": [
        "## **Model Tuning**"
      ],
      "metadata": {
        "id": "vGbyPCyTBrxk"
      }
    },
    {
      "cell_type": "code",
      "source": [
        "# compile model\n",
        "from keras.optimizers import Adam\n",
        "model1=Model(sequence_input,output)\n",
        "learning_rate=1e-4\n",
        "model1.compile(loss='categorical_crossentropy',optimizer='RMSProp',metrics=['accuracy'])"
      ],
      "metadata": {
        "id": "1uJFq8LSB01G"
      },
      "execution_count": null,
      "outputs": []
    },
    {
      "cell_type": "code",
      "source": [
        "# train model\n",
        "model1.fit(X_train,y_train,batch_size=32,epochs=5,validation_data=(X_test,y_test))"
      ],
      "metadata": {
        "colab": {
          "base_uri": "https://localhost:8080/"
        },
        "id": "kkLHXkLuB03L",
        "outputId": "eb54ea00-1b92-4df6-ac92-d6220a340c86"
      },
      "execution_count": null,
      "outputs": [
        {
          "output_type": "stream",
          "name": "stdout",
          "text": [
            "Epoch 1/5\n",
            "10/10 [==============================] - 5s 370ms/step - loss: 1.2354 - accuracy: 0.5374 - val_loss: 3.9208 - val_accuracy: 0.4730\n",
            "Epoch 2/5\n",
            "10/10 [==============================] - 3s 337ms/step - loss: 1.3571 - accuracy: 0.5136 - val_loss: 2.9275 - val_accuracy: 0.4054\n",
            "Epoch 3/5\n",
            "10/10 [==============================] - 3s 336ms/step - loss: 1.2641 - accuracy: 0.4932 - val_loss: 4.3646 - val_accuracy: 0.4865\n",
            "Epoch 4/5\n",
            "10/10 [==============================] - 3s 340ms/step - loss: 1.2501 - accuracy: 0.5136 - val_loss: 4.1746 - val_accuracy: 0.4730\n",
            "Epoch 5/5\n",
            "10/10 [==============================] - 3s 343ms/step - loss: 1.2524 - accuracy: 0.4898 - val_loss: 3.9843 - val_accuracy: 0.4595\n"
          ]
        },
        {
          "output_type": "execute_result",
          "data": {
            "text/plain": [
              "<keras.src.callbacks.History at 0x7b29a67d2d10>"
            ]
          },
          "metadata": {},
          "execution_count": 75
        }
      ]
    },
    {
      "cell_type": "code",
      "source": [
        "# save model\n",
        "model1.save(\"/content/drive/MyDrive/model1.h5\")"
      ],
      "metadata": {
        "id": "bxzbMyNhB06l"
      },
      "execution_count": null,
      "outputs": []
    },
    {
      "cell_type": "code",
      "source": [
        "loss, accuracy=model1.evaluate(X_test,y_test)\n",
        "print(\"Val Accuracy:\", accuracy)"
      ],
      "metadata": {
        "colab": {
          "base_uri": "https://localhost:8080/"
        },
        "id": "9YtPMJRlIQOQ",
        "outputId": "9a75481c-0c86-4079-8809-289869e0b82a"
      },
      "execution_count": null,
      "outputs": [
        {
          "output_type": "stream",
          "name": "stdout",
          "text": [
            "3/3 [==============================] - 0s 97ms/step - loss: 3.7388 - accuracy: 0.5000\n",
            "Val Accuracy: 0.5\n"
          ]
        }
      ]
    },
    {
      "cell_type": "code",
      "source": [
        "predictions_model1=model1.predict(X_test)"
      ],
      "metadata": {
        "colab": {
          "base_uri": "https://localhost:8080/"
        },
        "id": "JPuuxB3lIQa_",
        "outputId": "9fbdaeef-4a21-4589-bf84-ebea307ff33c"
      },
      "execution_count": null,
      "outputs": [
        {
          "output_type": "stream",
          "name": "stdout",
          "text": [
            "3/3 [==============================] - 0s 85ms/step\n"
          ]
        }
      ]
    },
    {
      "cell_type": "code",
      "source": [
        "# calculate AUC score and Plot ROC curve\n",
        "from sklearn.metrics import roc_curve, roc_auc_score\n",
        "import matplotlib.pyplot as plt\n",
        "from keras.utils import to_categorical\n",
        "from sklearn.preprocessing import label_binarize\n",
        "\n",
        "auc_score_tuning=roc_auc_score(y_test,predictions_model1,multi_class='ovr')\n",
        "print(\"AUC_Score:\", auc_score_tuning)\n",
        "\n",
        "plt.figure(figsize=(8,6))\n",
        "for i in range(5):\n",
        "  y_test_bin=label_binarize(y_test,classes=[0,1,2,3,4,5,6,7,8])\n",
        "  fpr,tpr,thresolds=roc_curve(y_test_bin[:, i],predictions_model1[:, i])\n",
        "  plt.plot(fpr,tpr,label=f\"Class {i}\")\n",
        "\n",
        "plt.plot([0,1],[0,1],'k--')\n",
        "plt.xlabel('False Positive Rate')\n",
        "plt.ylabel('True Positive Rate')\n",
        "plt.title('ROC CURVE')\n",
        "plt.show()"
      ],
      "metadata": {
        "colab": {
          "base_uri": "https://localhost:8080/",
          "height": 581
        },
        "id": "f6uXiQ9oEIdl",
        "outputId": "588daeda-41b8-4cfd-9456-1db8c1f1d642"
      },
      "execution_count": null,
      "outputs": [
        {
          "output_type": "stream",
          "name": "stdout",
          "text": [
            "AUC_Score: 0.7881378059517593\n"
          ]
        },
        {
          "output_type": "display_data",
          "data": {
            "text/plain": [
              "<Figure size 800x600 with 1 Axes>"
            ],
            "image/png": "[encoded data removed]"
          },
          "metadata": {}
        }
      ]
    },
    {
      "cell_type": "code",
      "source": [
        "# compile model\n",
        "from keras.optimizers import Adam\n",
        "model2=Model(sequence_input,output)\n",
        "learning_rate=1e-4\n",
        "model2.compile(loss='categorical_crossentropy',optimizer='Adagrad',metrics=['accuracy'])"
      ],
      "metadata": {
        "id": "qB7Xp6bjEIfn"
      },
      "execution_count": null,
      "outputs": []
    },
    {
      "cell_type": "code",
      "source": [
        "# train model\n",
        "model2.fit(X_train,y_train,batch_size=32,epochs=20,validation_data=(X_test,y_test))"
      ],
      "metadata": {
        "colab": {
          "base_uri": "https://localhost:8080/"
        },
        "id": "2eLtsiUDEIi-",
        "outputId": "df1f7470-934c-413c-d8f4-0d050a115df3"
      },
      "execution_count": null,
      "outputs": [
        {
          "output_type": "stream",
          "name": "stdout",
          "text": [
            "Epoch 1/20\n",
            "10/10 [==============================] - 3s 340ms/step - loss: 1.1980 - accuracy: 0.5544 - val_loss: 3.6060 - val_accuracy: 0.4595\n",
            "Epoch 2/20\n",
            "10/10 [==============================] - 3s 330ms/step - loss: 1.2097 - accuracy: 0.5476 - val_loss: 3.6054 - val_accuracy: 0.4730\n",
            "Epoch 3/20\n",
            "10/10 [==============================] - 3s 332ms/step - loss: 1.2791 - accuracy: 0.5272 - val_loss: 3.5977 - val_accuracy: 0.4865\n",
            "Epoch 4/20\n",
            "10/10 [==============================] - 3s 328ms/step - loss: 1.2296 - accuracy: 0.5408 - val_loss: 3.6048 - val_accuracy: 0.4865\n",
            "Epoch 5/20\n",
            "10/10 [==============================] - 3s 334ms/step - loss: 1.1473 - accuracy: 0.5646 - val_loss: 3.6201 - val_accuracy: 0.4865\n",
            "Epoch 6/20\n",
            "10/10 [==============================] - 3s 336ms/step - loss: 1.3051 - accuracy: 0.5408 - val_loss: 3.6111 - val_accuracy: 0.4865\n",
            "Epoch 7/20\n",
            "10/10 [==============================] - 3s 334ms/step - loss: 1.2446 - accuracy: 0.5238 - val_loss: 3.6216 - val_accuracy: 0.4865\n",
            "Epoch 8/20\n",
            "10/10 [==============================] - 3s 335ms/step - loss: 1.2016 - accuracy: 0.5340 - val_loss: 3.6404 - val_accuracy: 0.4865\n",
            "Epoch 9/20\n",
            "10/10 [==============================] - 3s 337ms/step - loss: 1.2426 - accuracy: 0.5340 - val_loss: 3.6478 - val_accuracy: 0.4865\n",
            "Epoch 10/20\n",
            "10/10 [==============================] - 3s 337ms/step - loss: 1.1957 - accuracy: 0.5442 - val_loss: 3.6512 - val_accuracy: 0.4865\n",
            "Epoch 11/20\n",
            "10/10 [==============================] - 3s 335ms/step - loss: 1.1743 - accuracy: 0.5544 - val_loss: 3.6559 - val_accuracy: 0.4865\n",
            "Epoch 12/20\n",
            "10/10 [==============================] - 3s 332ms/step - loss: 1.1746 - accuracy: 0.5340 - val_loss: 3.6668 - val_accuracy: 0.4865\n",
            "Epoch 13/20\n",
            "10/10 [==============================] - 3s 334ms/step - loss: 1.1747 - accuracy: 0.5408 - val_loss: 3.6670 - val_accuracy: 0.4865\n",
            "Epoch 14/20\n",
            "10/10 [==============================] - 3s 329ms/step - loss: 1.1917 - accuracy: 0.5442 - val_loss: 3.6742 - val_accuracy: 0.4865\n",
            "Epoch 15/20\n",
            "10/10 [==============================] - 3s 328ms/step - loss: 1.1725 - accuracy: 0.5442 - val_loss: 3.7082 - val_accuracy: 0.4865\n",
            "Epoch 16/20\n",
            "10/10 [==============================] - 3s 329ms/step - loss: 1.1664 - accuracy: 0.5544 - val_loss: 3.7240 - val_accuracy: 0.4865\n",
            "Epoch 17/20\n",
            "10/10 [==============================] - 3s 337ms/step - loss: 1.1728 - accuracy: 0.5374 - val_loss: 3.7202 - val_accuracy: 0.4865\n",
            "Epoch 18/20\n",
            "10/10 [==============================] - 3s 329ms/step - loss: 1.2199 - accuracy: 0.5204 - val_loss: 3.7277 - val_accuracy: 0.5000\n",
            "Epoch 19/20\n",
            "10/10 [==============================] - 3s 332ms/step - loss: 1.1733 - accuracy: 0.5578 - val_loss: 3.7361 - val_accuracy: 0.5000\n",
            "Epoch 20/20\n",
            "10/10 [==============================] - 3s 328ms/step - loss: 1.1662 - accuracy: 0.5544 - val_loss: 3.7388 - val_accuracy: 0.5000\n"
          ]
        },
        {
          "output_type": "execute_result",
          "data": {
            "text/plain": [
              "<keras.src.callbacks.History at 0x7b2a40154a90>"
            ]
          },
          "metadata": {},
          "execution_count": 82
        }
      ]
    },
    {
      "cell_type": "code",
      "source": [
        "# save model\n",
        "model2.save(\"/content/drive/MyDrive/model2.h5\")"
      ],
      "metadata": {
        "id": "T8WkzcMnHH1g"
      },
      "execution_count": null,
      "outputs": []
    },
    {
      "cell_type": "code",
      "source": [
        "loss, accuracy=model2.evaluate(X_test,y_test)\n",
        "print(\"Val Accuracy:\", accuracy)"
      ],
      "metadata": {
        "colab": {
          "base_uri": "https://localhost:8080/"
        },
        "id": "bV23WMTRIsX1",
        "outputId": "29e874e8-8eb9-4144-a553-767417f84458"
      },
      "execution_count": null,
      "outputs": [
        {
          "output_type": "stream",
          "name": "stdout",
          "text": [
            "3/3 [==============================] - 0s 89ms/step - loss: 3.7388 - accuracy: 0.5000\n",
            "Val Accuracy: 0.5\n"
          ]
        }
      ]
    },
    {
      "cell_type": "code",
      "source": [
        "predictions_model2=model2.predict(X_test)"
      ],
      "metadata": {
        "colab": {
          "base_uri": "https://localhost:8080/"
        },
        "id": "b7a2JsmwIsbO",
        "outputId": "525c169c-8837-49cd-e65d-66970eba1048"
      },
      "execution_count": null,
      "outputs": [
        {
          "output_type": "stream",
          "name": "stdout",
          "text": [
            "3/3 [==============================] - 0s 91ms/step\n"
          ]
        }
      ]
    },
    {
      "cell_type": "code",
      "source": [
        "# calculate AUC score and Plot ROC curve\n",
        "from sklearn.metrics import roc_curve, roc_auc_score\n",
        "import matplotlib.pyplot as plt\n",
        "from keras.utils import to_categorical\n",
        "from sklearn.preprocessing import label_binarize\n",
        "\n",
        "auc_score_tuning1=roc_auc_score(y_test,predictions_model2,multi_class='ovr')\n",
        "print(\"AUC_Score:\", auc_score_tuning1)"
      ],
      "metadata": {
        "colab": {
          "base_uri": "https://localhost:8080/"
        },
        "id": "ltSbAsOeHTyk",
        "outputId": "1f64be46-87ba-42a8-a564-d8775ce31c1d"
      },
      "execution_count": null,
      "outputs": [
        {
          "output_type": "stream",
          "name": "stdout",
          "text": [
            "AUC_Score: 0.7881378059517593\n"
          ]
        }
      ]
    }
  ]
}